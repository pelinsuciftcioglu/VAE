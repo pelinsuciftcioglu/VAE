{
  "nbformat": 4,
  "nbformat_minor": 0,
  "metadata": {
    "colab": {
      "name": "VAE.ipynb",
      "provenance": [],
      "mount_file_id": "https://github.com/pelinsuciftcioglu/VAE/blob/main/VAE.ipynb",
      "authorship_tag": "ABX9TyNoyD3H6cPt6I8SeadQtLCB",
      "include_colab_link": true
    },
    "kernelspec": {
      "name": "python3",
      "display_name": "Python 3"
    },
    "language_info": {
      "name": "python"
    },
    "accelerator": "GPU"
  },
  "cells": [
    {
      "cell_type": "markdown",
      "metadata": {
        "id": "view-in-github",
        "colab_type": "text"
      },
      "source": [
        "<a href=\"https://colab.research.google.com/github/pelinsuciftcioglu/VAE/blob/main/VAE.ipynb\" target=\"_parent\"><img src=\"https://colab.research.google.com/assets/colab-badge.svg\" alt=\"Open In Colab\"/></a>"
      ]
    },
    {
      "cell_type": "markdown",
      "metadata": {
        "id": "IGnGq9I4RJZi"
      },
      "source": [
        "# **Variational Auto-Encoder (VAE)**"
      ]
    },
    {
      "cell_type": "markdown",
      "metadata": {
        "id": "II9CkyMLhgIj"
      },
      "source": [
        "VAE implementation inspired by:\n",
        "- [Tomczak, J. M. (2021). Introduction to Deep Generative Modeling.](https://https://github.com/jmtomczak/intro_dgm)\n",
        "- [CreativeAI: Deep Learning for Graphics Tutorial Code\n",
        "](https://github.com/smartgeometry-ucl/dl4g/blob/master/variational_autoencoder.ipynb)\n",
        "\n",
        "\n",
        "\n"
      ]
    },
    {
      "cell_type": "code",
      "metadata": {
        "id": "kr7xJ0hJwUZ5"
      },
      "source": [
        "import torch\n",
        "import torch.nn as nn\n",
        "import torch.nn.functional as F\n",
        "import torch.optim\n",
        "import torch.utils\n",
        "import torch.distributions\n",
        "import torchvision\n",
        "from torch import autograd  # TO USE \"with autograd.detect_anomaly():\"\n",
        "import numpy as np\n",
        "import matplotlib.pyplot as plt\n",
        "\n",
        "import os\n",
        "\n",
        "use_gpu = True"
      ],
      "execution_count": 94,
      "outputs": []
    },
    {
      "cell_type": "code",
      "metadata": {
        "id": "d7rMFdHqXJYZ"
      },
      "source": [
        "PI = torch.from_numpy(np.asarray(np.pi))\n",
        "EPS = 1.e-5\n",
        "\n",
        "# DISTRBUTION FOR THE DATA (INPUT)\n",
        "\n",
        "def log_categorical(x, x_new, num_classes, reduction=None, dim=None):\n",
        "    x_one_hot = F.one_hot(x.long(), num_classes)\n",
        "    log_p = x_one_hot * torch.log(torch.clamp(x_new, EPS, 1. - EPS))\n",
        "    if reduction == 'avg':\n",
        "        return torch.mean(log_p, dim)\n",
        "    elif reduction == 'sum':\n",
        "        return torch.sum(log_p, dim)\n",
        "    else:\n",
        "        return log_p\n",
        "\n",
        "def log_bernoulli(x, x_new, reduction=None, dim=None):\n",
        "    x_new = torch.clamp(x_new, EPS, 1. - EPS)\n",
        "    log_p = x * torch.log(x_new) + (1. - x) * torch.log(1. - x_new)\n",
        "    if reduction == 'avg':\n",
        "        return torch.mean(log_p, dim)\n",
        "    elif reduction == 'sum':\n",
        "        return torch.sum(log_p, dim)\n",
        "    else:\n",
        "        return log_p\n",
        "\n",
        "# DISTRIBUTION FOR THE VARIATIONAL INFERENCE\n",
        "\n",
        "def log_normal_diag(x, mu, log_var, reduction=None, dim=None):\n",
        "    D = x.shape[1]\n",
        "    log_p = -0.5 * D * torch.log(2. * PI) - 0.5 * log_var - 0.5 * torch.exp(-log_var) * (x - mu)**2.\n",
        "    if reduction == 'avg':\n",
        "        return torch.mean(log_p, dim)\n",
        "    elif reduction == 'sum':\n",
        "        return torch.sum(log_p, dim)\n",
        "    else:\n",
        "        return log_p\n",
        "\n",
        "\n",
        "# PRIOR DISTRIBUTIONS for p(z)\n",
        "\n",
        "def log_standard_normal(x, reduction=None, dim=None):\n",
        "    D = x.shape[1]\n",
        "    log_p = -0.5 * D * torch.log(2. * PI) - 0.5 * x**2.\n",
        "    if reduction == 'avg':\n",
        "        return torch.mean(log_p, dim)\n",
        "    elif reduction == 'sum':\n",
        "        return torch.sum(log_p, dim)\n",
        "    else:\n",
        "        return log_p"
      ],
      "execution_count": 95,
      "outputs": []
    },
    {
      "cell_type": "code",
      "metadata": {
        "id": "OMVbn06LxAM4"
      },
      "source": [
        "class Encoder(nn.Module):\n",
        "    def __init__(self, D, H, L):\n",
        "        super(Encoder, self).__init__()\n",
        "\n",
        "        self.encoder_net = nn.Sequential(nn.Linear(D, H), nn.LeakyReLU(), nn.Linear(H, H), nn.LeakyReLU(), nn.Linear(H, 2*L))\n",
        "\n",
        "    def encode(self, x):\n",
        "      mu, log_var = self.forward(x)\n",
        "      return mu, log_var\n",
        "\n",
        "    def forward(self, x):\n",
        "      h = self.encoder_net(x)\n",
        "      mu, log_var =  torch.chunk(h, 2, dim=1)\n",
        "\n",
        "      return mu, log_var\n",
        "\n",
        "    def sample(self, mu, log_var):\n",
        "      std = torch.exp(0.5 * log_var)\n",
        "      # Sample epsilon ~ N(0,I)\n",
        "      eps = torch.randn_like(std)\n",
        "      # Reparameterization trick\n",
        "      z = mu + eps * std\n",
        "\n",
        "      return z\n",
        "\n",
        "    def log_prob(self, mu, log_var, z):\n",
        "      return log_normal_diag(z, mu, log_var)"
      ],
      "execution_count": 96,
      "outputs": []
    },
    {
      "cell_type": "code",
      "metadata": {
        "id": "cT7wpoop1PJJ"
      },
      "source": [
        "class Decoder(nn.Module):\n",
        "    def __init__(self, D, H, L, distribution, num_vals):\n",
        "        super(Decoder, self).__init__()\n",
        "        self.D = D\n",
        "        self.distribution = distribution\n",
        "        self.num_vals = num_vals\n",
        "\n",
        "        self.decoder_net = nn.Sequential(nn.Linear(L, H), nn.LeakyReLU(), nn.Linear(H, H), nn.LeakyReLU(), nn.Linear(H, D * num_vals))\n",
        "\n",
        "    def decode(self, z):\n",
        "      x_new = self.forward(z)\n",
        "\n",
        "      return x_new\n",
        "\n",
        "    def forward(self, z):\n",
        "      x_new = self.decoder_net(z)\n",
        "      \n",
        "      if self.distribution == 'categorical':\n",
        "        b = x_new.shape[0]\n",
        "        d = self.D\n",
        "        x_new = x_new.reshape(b, d, self.num_vals)\n",
        "        return torch.softmax(x_new, 2)\n",
        "      \n",
        "      elif self.distribution == 'bernoulli':\n",
        "        return torch.sigmoid(x_new)\n",
        "\n",
        "    def sample(self, z):\n",
        "        x_generated = self.decode(z)\n",
        "\n",
        "        if self.distribution == 'categorical':\n",
        "            b = x_generated.shape[0]\n",
        "            m = x_generated.shape[1]\n",
        "            x_generated = x_generated.view(b, -1, self.num_vals)\n",
        "            p = x_generated.view(-1, self.num_vals)\n",
        "            x_generated = torch.multinomial(p, num_samples=1).view(b, m)\n",
        "\n",
        "        elif self.distribution == 'bernoulli':\n",
        "            x_generated = torch.bernoulli(x_generated)\n",
        "\n",
        "        return x_generated\n",
        "\n",
        "    "
      ],
      "execution_count": 97,
      "outputs": []
    },
    {
      "cell_type": "code",
      "metadata": {
        "id": "XMV2Vv6rYVOM"
      },
      "source": [
        "class Prior(nn.Module):\n",
        "    def __init__(self, L, prior_distribution):\n",
        "        super(Prior, self).__init__()\n",
        "        self.L = L\n",
        "        self.distribution = prior_distribution\n",
        "\n",
        "    def sample(self, batch_size):\n",
        "        z = torch.randn((batch_size, self.L))\n",
        "        return z\n",
        "\n",
        "    def log_prob(self, z):\n",
        "      if (self.distribution == 'standard normal'):\n",
        "        return log_standard_normal(z)\n",
        "\n",
        "      # elif self.distribution == ''\n",
        "        # return log____(z)"
      ],
      "execution_count": 98,
      "outputs": []
    },
    {
      "cell_type": "code",
      "metadata": {
        "id": "tzfVgQYtP-Lg"
      },
      "source": [
        "class VAE(nn.Module):\n",
        "  def __init__(self, D, H, L, distribution, num_vals, prior_distribution):\n",
        "        super(VAE, self).__init__()\n",
        "        self.encoder = Encoder(D, H, L)\n",
        "        self.decoder = Decoder(D, H, L, distribution, num_vals)\n",
        "        self.prior = Prior(L, prior_distribution)\n",
        "\n",
        "\n",
        "        self.num_vals = num_vals\n",
        "        self.distribution = distribution\n",
        "  \n",
        "  def forward(self, x, reduction='avg'):\n",
        "        x = torch.flatten(x, start_dim=1)\n",
        "        mu, log_var = self.encoder.encode(x)\n",
        "        z = self.encoder.sample(mu, log_var)\n",
        "\n",
        "        ELBO = self.loss(x, z, mu, log_var, reduction)\n",
        "\n",
        "        return ELBO\n",
        "  \n",
        "  def loss(self, x, z, mu, log_var, reduction='avg'):\n",
        "    # Reconstruction Error\n",
        "    RE = self.log_prob(x, z)\n",
        "\n",
        "    # KL-Divergence\n",
        "    KL = (self.prior.log_prob(z) - self.encoder.log_prob(mu, log_var, z)).sum(-1)\n",
        "\n",
        "    if reduction == 'sum':\n",
        "      return -(RE + KL).sum()\n",
        "    else:\n",
        "      return -(RE + KL).mean()\n",
        "\n",
        "\n",
        "  def log_prob(self, x, z):\n",
        "    x_new = self.decoder.decode(z)\n",
        "\n",
        "    if self.distribution == 'categorical':\n",
        "      log_prob = log_categorical(x, x_new, self.num_vals, reduction='sum', dim=-1).sum(-1)\n",
        "            \n",
        "    elif self.distribution == 'bernoulli':\n",
        "      log_prob = log_bernoulli(x, x_new, reduction='sum', dim=-1)\n",
        "\n",
        "    return log_prob\n",
        "\n",
        "  def sample(self, batch_size=128):\n",
        "    z = self.prior.sample(batch_size=batch_size)\n",
        "    return self.decoder.sample(z)\n"
      ],
      "execution_count": 99,
      "outputs": []
    },
    {
      "cell_type": "code",
      "metadata": {
        "id": "Z6iSaLkBfA-7"
      },
      "source": [
        "import math\n",
        "import numbers\n",
        "import warnings\n",
        "from enum import Enum\n",
        "\n",
        "from PIL import Image\n",
        "\n",
        "from torch import Tensor\n",
        "from typing import List, Tuple, Any, Optional\n",
        "\n",
        "try:\n",
        "    import accimage\n",
        "except ImportError:\n",
        "    accimage = None"
      ],
      "execution_count": 100,
      "outputs": []
    },
    {
      "cell_type": "code",
      "metadata": {
        "id": "Si5Apcn1dhDW"
      },
      "source": [
        "# CUSTOM TRANFORM FOR THE DATA WITHOUT SCALING\n",
        "\n",
        "class ToTensor:\n",
        "    def __call__(self, pic):\n",
        "        \"\"\"\n",
        "        Args:\n",
        "            pic (PIL Image or numpy.ndarray): Image to be converted to tensor.\n",
        "        Returns:\n",
        "            Tensor: Converted image.\n",
        "        \"\"\"\n",
        "        return to_tensor(np.array(pic))\n",
        "\n",
        "    def __repr__(self):\n",
        "        return self.__class__.__name__ + '()'\n",
        "\n",
        "def to_tensor(pic):\n",
        "    \"\"\"Convert a ``PIL Image`` or ``numpy.ndarray`` to tensor.\n",
        "    This function does not support torchscript.\n",
        "    See :class:`~torchvision.transforms.ToTensor` for more details.\n",
        "    Args:\n",
        "        pic (PIL Image or numpy.ndarray): Image to be converted to tensor.\n",
        "    Returns:\n",
        "        Tensor: Converted image.\n",
        "    \"\"\"\n",
        "    default_float_dtype = torch.get_default_dtype()\n",
        "\n",
        "    if isinstance(pic, np.ndarray):\n",
        "        # handle numpy array\n",
        "        if pic.ndim == 2:\n",
        "            pic = pic[:, :, None]\n",
        "\n",
        "        img = torch.from_numpy(pic.transpose((2, 0, 1))).contiguous()\n",
        "        # backward compatibility\n",
        "        if isinstance(img, torch.ByteTensor):\n",
        "            return img.to(dtype=default_float_dtype).div(255)\n",
        "        else:\n",
        "            return img\n",
        "\n",
        "    if accimage is not None and isinstance(pic, accimage.Image):\n",
        "        nppic = np.zeros([pic.channels, pic.height, pic.width], dtype=np.float32)\n",
        "        pic.copyto(nppic)\n",
        "        return torch.from_numpy(nppic).to(dtype=default_float_dtype)\n",
        "\n",
        "    # handle PIL Image\n",
        "    mode_to_nptype = {'I': np.int32, 'I;16': np.int16, 'F': np.float32}\n",
        "    img = torch.from_numpy(\n",
        "        np.array(pic, mode_to_nptype.get(pic.mode, np.uint8), copy=True)\n",
        "    )\n",
        "\n",
        "    if pic.mode == '1':\n",
        "        img = 255 * img\n",
        "    img = img.view(pic.size[1], pic.size[0], len(pic.getbands()))\n",
        "    # put it from HWC to CHW format\n",
        "    img = img.permute((2, 0, 1)).contiguous()\n",
        "    if isinstance(img, torch.ByteTensor):\n",
        "        return img.to(dtype=default_float_dtype)\n",
        "    else:\n",
        "        return img"
      ],
      "execution_count": 101,
      "outputs": []
    },
    {
      "cell_type": "markdown",
      "metadata": {
        "id": "ssnuAYrJLqXZ"
      },
      "source": [
        "MNIST FROM: http://yann.lecun.com/exdb/mnist/"
      ]
    },
    {
      "cell_type": "code",
      "metadata": {
        "id": "G2GSk5YuIR3M"
      },
      "source": [
        "import torchvision.transforms as transforms\n",
        "from torch.utils.data import DataLoader\n",
        "from torchvision.datasets import MNIST\n",
        "\n",
        "img_transform = transforms.Compose([ToTensor()])\n",
        "\n",
        "batch_size = 64\n",
        "\n",
        "train_dataset = MNIST(root='./data/MNIST', download=True, train=True, transform=img_transform)\n",
        "train_dataloader = DataLoader(train_dataset, batch_size=batch_size, shuffle=True)\n",
        "\n",
        "\n",
        "test_dataset = MNIST(root='./data/MNIST', download=True, train=False, transform=img_transform)\n",
        "test_dataloader = DataLoader(test_dataset, batch_size=batch_size, shuffle=False)"
      ],
      "execution_count": 102,
      "outputs": []
    },
    {
      "cell_type": "code",
      "metadata": {
        "id": "cKPrUR6ypP52"
      },
      "source": [
        "# DISTRUBUTION FOR THE INPUT DATA\n",
        "likelihood_type = 'categorical'\n",
        "\n",
        "if likelihood_type == 'categorical':\n",
        "    num_vals = 256\n",
        "elif likelihood_type == 'bernoulli':\n",
        "    num_vals = 1\n",
        "\n",
        "prior_distribution = 'standard normal'"
      ],
      "execution_count": 103,
      "outputs": []
    },
    {
      "cell_type": "code",
      "metadata": {
        "id": "3FwKPPMwHm6x"
      },
      "source": [
        "D = 28*28 # INPUT DATA DIMENSIONALITY\n",
        "H = 100   # HIDDEN LAYER NODES\n",
        "L = 20    # LATENT VARIABLES DIMENSIONALITY\n",
        "\n",
        "learning_rate = 1e-3\n",
        "num_epochs = 100"
      ],
      "execution_count": 104,
      "outputs": []
    },
    {
      "cell_type": "code",
      "metadata": {
        "id": "3bj4iLyRU1UA"
      },
      "source": [
        "model = VAE(D, H, L, likelihood_type, num_vals, prior_distribution)\n",
        "\n",
        "device = torch.device(\"cuda\" if use_gpu and torch.cuda.is_available() else \"cpu\")\n",
        "model = model.to(device)\n",
        "\n",
        "# ADAM OPTIMIZER\n",
        "optimizer = torch.optim.Adam([p for p in model.parameters() if p.requires_grad == True], lr=learning_rate)"
      ],
      "execution_count": 105,
      "outputs": []
    },
    {
      "cell_type": "code",
      "metadata": {
        "id": "g1P_Z587OHIN"
      },
      "source": [
        "results_dir = 'Results/'\n",
        "if not(os.path.exists(results_dir)):\n",
        "    os.mkdir(results_dir)\n",
        "\n",
        "model_name = 'VAE'"
      ],
      "execution_count": 106,
      "outputs": []
    },
    {
      "cell_type": "code",
      "metadata": {
        "id": "5NZ6E__OXtlW"
      },
      "source": [
        "def generate_samples(name, data_loader, extra_name):\n",
        "  data, labels = next(iter(data_loader))\n",
        "\n",
        "  x = data.detach().numpy()\n",
        "\n",
        "  model_best = torch.load(name + '.model')\n",
        "  model_best.eval()\n",
        "\n",
        "  num_x = 4\n",
        "  num_y = 4\n",
        "  x = model_best.sample(num_x * num_y)\n",
        "  x = x.detach().numpy()\n",
        "\n",
        "  fig, ax = plt.subplots(num_x, num_y)\n",
        "  for i, ax in enumerate(ax.flatten()):\n",
        "    plottable_image = np.reshape(x[i], (8, 8))\n",
        "    ax.imshow(plottable_image, cmap='gray')\n",
        "    ax.axis('off')\n",
        "\n",
        "  plt.savefig(name + '_generated_images' + extra_name + '.pdf', bbox_inches='tight')\n",
        "  plt.close()\n",
        "\n"
      ],
      "execution_count": 107,
      "outputs": []
    },
    {
      "cell_type": "code",
      "metadata": {
        "id": "kYaRbY3TGhrx",
        "colab": {
          "base_uri": "https://localhost:8080/",
          "height": 1000
        },
        "outputId": "8750b1d1-212d-4f1f-8134-c350f50e292f"
      },
      "source": [
        "train_loss_avgs = []\n",
        "best_loss = 1000.\n",
        "\n",
        "print(\"Training...\")\n",
        "\n",
        "name = results_dir + model_name\n",
        "\n",
        "for epoch in range(num_epochs):\n",
        "  model.train()\n",
        "\n",
        "  train_loss_avgs.append(0)\n",
        "  num_batches = 0\n",
        "  for batch_idx, (data, labels) in enumerate(train_dataloader, 1):\n",
        "    \n",
        "\n",
        "      data = data.to(device)\n",
        "\n",
        "\n",
        "      loss = model.forward(data) \n",
        "\n",
        "\n",
        "      optimizer.zero_grad()\n",
        "      loss.backward(retain_graph=True)    \n",
        "      optimizer.step()\n",
        "\n",
        "      \n",
        "      train_loss_avgs[-1] += loss.item()\n",
        "      num_batches += 1\n",
        "\n",
        "  train_loss_avgs[-1] /= num_batches\n",
        "  print('Epoch [%d / %d] average training loss: %f' % (epoch+1, num_epochs, train_loss_avgs[-1]))\n",
        "\n",
        "  if epoch == 0:\n",
        "    print('Model Saved!')\n",
        "    torch.save(model, name + '.model')\n",
        "\n",
        "  else:\n",
        "    if train_loss_avgs[-1] < best_loss:\n",
        "      print('Model Saved!')\n",
        "      torch.save(model, name + '.model')\n",
        "      best_loss = train_loss_avgs[-1]\n",
        "\n",
        "      generate_samples(name, train_dataloader, \"_epoch_\" + str(epoch))\n",
        "\n",
        "\n"
      ],
      "execution_count": 108,
      "outputs": [
        {
          "output_type": "stream",
          "text": [
            "Training...\n",
            "Epoch [1 / 100] average training loss: 116.910867\n",
            "Model Saved!\n",
            "Epoch [2 / 100] average training loss: 27.868569\n",
            "Model Saved!\n"
          ],
          "name": "stdout"
        },
        {
          "output_type": "error",
          "ename": "RuntimeError",
          "evalue": "ignored",
          "traceback": [
            "\u001b[0;31m---------------------------------------------------------------------------\u001b[0m",
            "\u001b[0;31mRuntimeError\u001b[0m                              Traceback (most recent call last)",
            "\u001b[0;32m<ipython-input-108-2c7dad17682f>\u001b[0m in \u001b[0;36m<module>\u001b[0;34m()\u001b[0m\n\u001b[1;32m     41\u001b[0m       \u001b[0mbest_loss\u001b[0m \u001b[0;34m=\u001b[0m \u001b[0mtrain_loss_avgs\u001b[0m\u001b[0;34m[\u001b[0m\u001b[0;34m-\u001b[0m\u001b[0;36m1\u001b[0m\u001b[0;34m]\u001b[0m\u001b[0;34m\u001b[0m\u001b[0;34m\u001b[0m\u001b[0m\n\u001b[1;32m     42\u001b[0m \u001b[0;34m\u001b[0m\u001b[0m\n\u001b[0;32m---> 43\u001b[0;31m       \u001b[0mgenerate_samples\u001b[0m\u001b[0;34m(\u001b[0m\u001b[0mname\u001b[0m\u001b[0;34m,\u001b[0m \u001b[0mtrain_dataloader\u001b[0m\u001b[0;34m,\u001b[0m \u001b[0;34m\"_epoch_\"\u001b[0m \u001b[0;34m+\u001b[0m \u001b[0mstr\u001b[0m\u001b[0;34m(\u001b[0m\u001b[0mepoch\u001b[0m\u001b[0;34m)\u001b[0m\u001b[0;34m)\u001b[0m\u001b[0;34m\u001b[0m\u001b[0;34m\u001b[0m\u001b[0m\n\u001b[0m\u001b[1;32m     44\u001b[0m \u001b[0;34m\u001b[0m\u001b[0m\n\u001b[1;32m     45\u001b[0m \u001b[0;34m\u001b[0m\u001b[0m\n",
            "\u001b[0;32m<ipython-input-107-25f076d34b19>\u001b[0m in \u001b[0;36mgenerate_samples\u001b[0;34m(name, data_loader, extra_name)\u001b[0m\n\u001b[1;32m      9\u001b[0m   \u001b[0mnum_x\u001b[0m \u001b[0;34m=\u001b[0m \u001b[0;36m4\u001b[0m\u001b[0;34m\u001b[0m\u001b[0;34m\u001b[0m\u001b[0m\n\u001b[1;32m     10\u001b[0m   \u001b[0mnum_y\u001b[0m \u001b[0;34m=\u001b[0m \u001b[0;36m4\u001b[0m\u001b[0;34m\u001b[0m\u001b[0;34m\u001b[0m\u001b[0m\n\u001b[0;32m---> 11\u001b[0;31m   \u001b[0mx\u001b[0m \u001b[0;34m=\u001b[0m \u001b[0mmodel_best\u001b[0m\u001b[0;34m.\u001b[0m\u001b[0msample\u001b[0m\u001b[0;34m(\u001b[0m\u001b[0mnum_x\u001b[0m \u001b[0;34m*\u001b[0m \u001b[0mnum_y\u001b[0m\u001b[0;34m)\u001b[0m\u001b[0;34m\u001b[0m\u001b[0;34m\u001b[0m\u001b[0m\n\u001b[0m\u001b[1;32m     12\u001b[0m   \u001b[0mx\u001b[0m \u001b[0;34m=\u001b[0m \u001b[0mx\u001b[0m\u001b[0;34m.\u001b[0m\u001b[0mdetach\u001b[0m\u001b[0;34m(\u001b[0m\u001b[0;34m)\u001b[0m\u001b[0;34m.\u001b[0m\u001b[0mnumpy\u001b[0m\u001b[0;34m(\u001b[0m\u001b[0;34m)\u001b[0m\u001b[0;34m\u001b[0m\u001b[0;34m\u001b[0m\u001b[0m\n\u001b[1;32m     13\u001b[0m \u001b[0;34m\u001b[0m\u001b[0m\n",
            "\u001b[0;32m<ipython-input-99-9c9c25714fca>\u001b[0m in \u001b[0;36msample\u001b[0;34m(self, batch_size)\u001b[0m\n\u001b[1;32m     45\u001b[0m   \u001b[0;32mdef\u001b[0m \u001b[0msample\u001b[0m\u001b[0;34m(\u001b[0m\u001b[0mself\u001b[0m\u001b[0;34m,\u001b[0m \u001b[0mbatch_size\u001b[0m\u001b[0;34m=\u001b[0m\u001b[0;36m128\u001b[0m\u001b[0;34m)\u001b[0m\u001b[0;34m:\u001b[0m\u001b[0;34m\u001b[0m\u001b[0;34m\u001b[0m\u001b[0m\n\u001b[1;32m     46\u001b[0m     \u001b[0mz\u001b[0m \u001b[0;34m=\u001b[0m \u001b[0mself\u001b[0m\u001b[0;34m.\u001b[0m\u001b[0mprior\u001b[0m\u001b[0;34m.\u001b[0m\u001b[0msample\u001b[0m\u001b[0;34m(\u001b[0m\u001b[0mbatch_size\u001b[0m\u001b[0;34m=\u001b[0m\u001b[0mbatch_size\u001b[0m\u001b[0;34m)\u001b[0m\u001b[0;34m\u001b[0m\u001b[0;34m\u001b[0m\u001b[0m\n\u001b[0;32m---> 47\u001b[0;31m     \u001b[0;32mreturn\u001b[0m \u001b[0mself\u001b[0m\u001b[0;34m.\u001b[0m\u001b[0mdecoder\u001b[0m\u001b[0;34m.\u001b[0m\u001b[0msample\u001b[0m\u001b[0;34m(\u001b[0m\u001b[0mz\u001b[0m\u001b[0;34m)\u001b[0m\u001b[0;34m\u001b[0m\u001b[0;34m\u001b[0m\u001b[0m\n\u001b[0m",
            "\u001b[0;32m<ipython-input-97-a1fb0b4a0114>\u001b[0m in \u001b[0;36msample\u001b[0;34m(self, z)\u001b[0m\n\u001b[1;32m     26\u001b[0m \u001b[0;34m\u001b[0m\u001b[0m\n\u001b[1;32m     27\u001b[0m     \u001b[0;32mdef\u001b[0m \u001b[0msample\u001b[0m\u001b[0;34m(\u001b[0m\u001b[0mself\u001b[0m\u001b[0;34m,\u001b[0m \u001b[0mz\u001b[0m\u001b[0;34m)\u001b[0m\u001b[0;34m:\u001b[0m\u001b[0;34m\u001b[0m\u001b[0;34m\u001b[0m\u001b[0m\n\u001b[0;32m---> 28\u001b[0;31m         \u001b[0mx_generated\u001b[0m \u001b[0;34m=\u001b[0m \u001b[0mself\u001b[0m\u001b[0;34m.\u001b[0m\u001b[0mdecode\u001b[0m\u001b[0;34m(\u001b[0m\u001b[0mz\u001b[0m\u001b[0;34m)\u001b[0m\u001b[0;34m\u001b[0m\u001b[0;34m\u001b[0m\u001b[0m\n\u001b[0m\u001b[1;32m     29\u001b[0m \u001b[0;34m\u001b[0m\u001b[0m\n\u001b[1;32m     30\u001b[0m         \u001b[0;32mif\u001b[0m \u001b[0mself\u001b[0m\u001b[0;34m.\u001b[0m\u001b[0mdistribution\u001b[0m \u001b[0;34m==\u001b[0m \u001b[0;34m'categorical'\u001b[0m\u001b[0;34m:\u001b[0m\u001b[0;34m\u001b[0m\u001b[0;34m\u001b[0m\u001b[0m\n",
            "\u001b[0;32m<ipython-input-97-a1fb0b4a0114>\u001b[0m in \u001b[0;36mdecode\u001b[0;34m(self, z)\u001b[0m\n\u001b[1;32m      9\u001b[0m \u001b[0;34m\u001b[0m\u001b[0m\n\u001b[1;32m     10\u001b[0m     \u001b[0;32mdef\u001b[0m \u001b[0mdecode\u001b[0m\u001b[0;34m(\u001b[0m\u001b[0mself\u001b[0m\u001b[0;34m,\u001b[0m \u001b[0mz\u001b[0m\u001b[0;34m)\u001b[0m\u001b[0;34m:\u001b[0m\u001b[0;34m\u001b[0m\u001b[0;34m\u001b[0m\u001b[0m\n\u001b[0;32m---> 11\u001b[0;31m       \u001b[0mx_new\u001b[0m \u001b[0;34m=\u001b[0m \u001b[0mself\u001b[0m\u001b[0;34m.\u001b[0m\u001b[0mforward\u001b[0m\u001b[0;34m(\u001b[0m\u001b[0mz\u001b[0m\u001b[0;34m)\u001b[0m\u001b[0;34m\u001b[0m\u001b[0;34m\u001b[0m\u001b[0m\n\u001b[0m\u001b[1;32m     12\u001b[0m \u001b[0;34m\u001b[0m\u001b[0m\n\u001b[1;32m     13\u001b[0m       \u001b[0;32mreturn\u001b[0m \u001b[0mx_new\u001b[0m\u001b[0;34m\u001b[0m\u001b[0;34m\u001b[0m\u001b[0m\n",
            "\u001b[0;32m<ipython-input-97-a1fb0b4a0114>\u001b[0m in \u001b[0;36mforward\u001b[0;34m(self, z)\u001b[0m\n\u001b[1;32m     14\u001b[0m \u001b[0;34m\u001b[0m\u001b[0m\n\u001b[1;32m     15\u001b[0m     \u001b[0;32mdef\u001b[0m \u001b[0mforward\u001b[0m\u001b[0;34m(\u001b[0m\u001b[0mself\u001b[0m\u001b[0;34m,\u001b[0m \u001b[0mz\u001b[0m\u001b[0;34m)\u001b[0m\u001b[0;34m:\u001b[0m\u001b[0;34m\u001b[0m\u001b[0;34m\u001b[0m\u001b[0m\n\u001b[0;32m---> 16\u001b[0;31m       \u001b[0mx_new\u001b[0m \u001b[0;34m=\u001b[0m \u001b[0mself\u001b[0m\u001b[0;34m.\u001b[0m\u001b[0mdecoder_net\u001b[0m\u001b[0;34m(\u001b[0m\u001b[0mz\u001b[0m\u001b[0;34m)\u001b[0m\u001b[0;34m\u001b[0m\u001b[0;34m\u001b[0m\u001b[0m\n\u001b[0m\u001b[1;32m     17\u001b[0m \u001b[0;34m\u001b[0m\u001b[0m\n\u001b[1;32m     18\u001b[0m       \u001b[0;32mif\u001b[0m \u001b[0mself\u001b[0m\u001b[0;34m.\u001b[0m\u001b[0mdistribution\u001b[0m \u001b[0;34m==\u001b[0m \u001b[0;34m'categorical'\u001b[0m\u001b[0;34m:\u001b[0m\u001b[0;34m\u001b[0m\u001b[0;34m\u001b[0m\u001b[0m\n",
            "\u001b[0;32m/usr/local/lib/python3.7/dist-packages/torch/nn/modules/module.py\u001b[0m in \u001b[0;36m_call_impl\u001b[0;34m(self, *input, **kwargs)\u001b[0m\n\u001b[1;32m   1049\u001b[0m         if not (self._backward_hooks or self._forward_hooks or self._forward_pre_hooks or _global_backward_hooks\n\u001b[1;32m   1050\u001b[0m                 or _global_forward_hooks or _global_forward_pre_hooks):\n\u001b[0;32m-> 1051\u001b[0;31m             \u001b[0;32mreturn\u001b[0m \u001b[0mforward_call\u001b[0m\u001b[0;34m(\u001b[0m\u001b[0;34m*\u001b[0m\u001b[0minput\u001b[0m\u001b[0;34m,\u001b[0m \u001b[0;34m**\u001b[0m\u001b[0mkwargs\u001b[0m\u001b[0;34m)\u001b[0m\u001b[0;34m\u001b[0m\u001b[0;34m\u001b[0m\u001b[0m\n\u001b[0m\u001b[1;32m   1052\u001b[0m         \u001b[0;31m# Do not call functions when jit is used\u001b[0m\u001b[0;34m\u001b[0m\u001b[0;34m\u001b[0m\u001b[0;34m\u001b[0m\u001b[0m\n\u001b[1;32m   1053\u001b[0m         \u001b[0mfull_backward_hooks\u001b[0m\u001b[0;34m,\u001b[0m \u001b[0mnon_full_backward_hooks\u001b[0m \u001b[0;34m=\u001b[0m \u001b[0;34m[\u001b[0m\u001b[0;34m]\u001b[0m\u001b[0;34m,\u001b[0m \u001b[0;34m[\u001b[0m\u001b[0;34m]\u001b[0m\u001b[0;34m\u001b[0m\u001b[0;34m\u001b[0m\u001b[0m\n",
            "\u001b[0;32m/usr/local/lib/python3.7/dist-packages/torch/nn/modules/container.py\u001b[0m in \u001b[0;36mforward\u001b[0;34m(self, input)\u001b[0m\n\u001b[1;32m    137\u001b[0m     \u001b[0;32mdef\u001b[0m \u001b[0mforward\u001b[0m\u001b[0;34m(\u001b[0m\u001b[0mself\u001b[0m\u001b[0;34m,\u001b[0m \u001b[0minput\u001b[0m\u001b[0;34m)\u001b[0m\u001b[0;34m:\u001b[0m\u001b[0;34m\u001b[0m\u001b[0;34m\u001b[0m\u001b[0m\n\u001b[1;32m    138\u001b[0m         \u001b[0;32mfor\u001b[0m \u001b[0mmodule\u001b[0m \u001b[0;32min\u001b[0m \u001b[0mself\u001b[0m\u001b[0;34m:\u001b[0m\u001b[0;34m\u001b[0m\u001b[0;34m\u001b[0m\u001b[0m\n\u001b[0;32m--> 139\u001b[0;31m             \u001b[0minput\u001b[0m \u001b[0;34m=\u001b[0m \u001b[0mmodule\u001b[0m\u001b[0;34m(\u001b[0m\u001b[0minput\u001b[0m\u001b[0;34m)\u001b[0m\u001b[0;34m\u001b[0m\u001b[0;34m\u001b[0m\u001b[0m\n\u001b[0m\u001b[1;32m    140\u001b[0m         \u001b[0;32mreturn\u001b[0m \u001b[0minput\u001b[0m\u001b[0;34m\u001b[0m\u001b[0;34m\u001b[0m\u001b[0m\n\u001b[1;32m    141\u001b[0m \u001b[0;34m\u001b[0m\u001b[0m\n",
            "\u001b[0;32m/usr/local/lib/python3.7/dist-packages/torch/nn/modules/module.py\u001b[0m in \u001b[0;36m_call_impl\u001b[0;34m(self, *input, **kwargs)\u001b[0m\n\u001b[1;32m   1049\u001b[0m         if not (self._backward_hooks or self._forward_hooks or self._forward_pre_hooks or _global_backward_hooks\n\u001b[1;32m   1050\u001b[0m                 or _global_forward_hooks or _global_forward_pre_hooks):\n\u001b[0;32m-> 1051\u001b[0;31m             \u001b[0;32mreturn\u001b[0m \u001b[0mforward_call\u001b[0m\u001b[0;34m(\u001b[0m\u001b[0;34m*\u001b[0m\u001b[0minput\u001b[0m\u001b[0;34m,\u001b[0m \u001b[0;34m**\u001b[0m\u001b[0mkwargs\u001b[0m\u001b[0;34m)\u001b[0m\u001b[0;34m\u001b[0m\u001b[0;34m\u001b[0m\u001b[0m\n\u001b[0m\u001b[1;32m   1052\u001b[0m         \u001b[0;31m# Do not call functions when jit is used\u001b[0m\u001b[0;34m\u001b[0m\u001b[0;34m\u001b[0m\u001b[0;34m\u001b[0m\u001b[0m\n\u001b[1;32m   1053\u001b[0m         \u001b[0mfull_backward_hooks\u001b[0m\u001b[0;34m,\u001b[0m \u001b[0mnon_full_backward_hooks\u001b[0m \u001b[0;34m=\u001b[0m \u001b[0;34m[\u001b[0m\u001b[0;34m]\u001b[0m\u001b[0;34m,\u001b[0m \u001b[0;34m[\u001b[0m\u001b[0;34m]\u001b[0m\u001b[0;34m\u001b[0m\u001b[0;34m\u001b[0m\u001b[0m\n",
            "\u001b[0;32m/usr/local/lib/python3.7/dist-packages/torch/nn/modules/linear.py\u001b[0m in \u001b[0;36mforward\u001b[0;34m(self, input)\u001b[0m\n\u001b[1;32m     94\u001b[0m \u001b[0;34m\u001b[0m\u001b[0m\n\u001b[1;32m     95\u001b[0m     \u001b[0;32mdef\u001b[0m \u001b[0mforward\u001b[0m\u001b[0;34m(\u001b[0m\u001b[0mself\u001b[0m\u001b[0;34m,\u001b[0m \u001b[0minput\u001b[0m\u001b[0;34m:\u001b[0m \u001b[0mTensor\u001b[0m\u001b[0;34m)\u001b[0m \u001b[0;34m->\u001b[0m \u001b[0mTensor\u001b[0m\u001b[0;34m:\u001b[0m\u001b[0;34m\u001b[0m\u001b[0;34m\u001b[0m\u001b[0m\n\u001b[0;32m---> 96\u001b[0;31m         \u001b[0;32mreturn\u001b[0m \u001b[0mF\u001b[0m\u001b[0;34m.\u001b[0m\u001b[0mlinear\u001b[0m\u001b[0;34m(\u001b[0m\u001b[0minput\u001b[0m\u001b[0;34m,\u001b[0m \u001b[0mself\u001b[0m\u001b[0;34m.\u001b[0m\u001b[0mweight\u001b[0m\u001b[0;34m,\u001b[0m \u001b[0mself\u001b[0m\u001b[0;34m.\u001b[0m\u001b[0mbias\u001b[0m\u001b[0;34m)\u001b[0m\u001b[0;34m\u001b[0m\u001b[0;34m\u001b[0m\u001b[0m\n\u001b[0m\u001b[1;32m     97\u001b[0m \u001b[0;34m\u001b[0m\u001b[0m\n\u001b[1;32m     98\u001b[0m     \u001b[0;32mdef\u001b[0m \u001b[0mextra_repr\u001b[0m\u001b[0;34m(\u001b[0m\u001b[0mself\u001b[0m\u001b[0;34m)\u001b[0m \u001b[0;34m->\u001b[0m \u001b[0mstr\u001b[0m\u001b[0;34m:\u001b[0m\u001b[0;34m\u001b[0m\u001b[0;34m\u001b[0m\u001b[0m\n",
            "\u001b[0;32m/usr/local/lib/python3.7/dist-packages/torch/nn/functional.py\u001b[0m in \u001b[0;36mlinear\u001b[0;34m(input, weight, bias)\u001b[0m\n\u001b[1;32m   1845\u001b[0m     \u001b[0;32mif\u001b[0m \u001b[0mhas_torch_function_variadic\u001b[0m\u001b[0;34m(\u001b[0m\u001b[0minput\u001b[0m\u001b[0;34m,\u001b[0m \u001b[0mweight\u001b[0m\u001b[0;34m)\u001b[0m\u001b[0;34m:\u001b[0m\u001b[0;34m\u001b[0m\u001b[0;34m\u001b[0m\u001b[0m\n\u001b[1;32m   1846\u001b[0m         \u001b[0;32mreturn\u001b[0m \u001b[0mhandle_torch_function\u001b[0m\u001b[0;34m(\u001b[0m\u001b[0mlinear\u001b[0m\u001b[0;34m,\u001b[0m \u001b[0;34m(\u001b[0m\u001b[0minput\u001b[0m\u001b[0;34m,\u001b[0m \u001b[0mweight\u001b[0m\u001b[0;34m)\u001b[0m\u001b[0;34m,\u001b[0m \u001b[0minput\u001b[0m\u001b[0;34m,\u001b[0m \u001b[0mweight\u001b[0m\u001b[0;34m,\u001b[0m \u001b[0mbias\u001b[0m\u001b[0;34m=\u001b[0m\u001b[0mbias\u001b[0m\u001b[0;34m)\u001b[0m\u001b[0;34m\u001b[0m\u001b[0;34m\u001b[0m\u001b[0m\n\u001b[0;32m-> 1847\u001b[0;31m     \u001b[0;32mreturn\u001b[0m \u001b[0mtorch\u001b[0m\u001b[0;34m.\u001b[0m\u001b[0m_C\u001b[0m\u001b[0;34m.\u001b[0m\u001b[0m_nn\u001b[0m\u001b[0;34m.\u001b[0m\u001b[0mlinear\u001b[0m\u001b[0;34m(\u001b[0m\u001b[0minput\u001b[0m\u001b[0;34m,\u001b[0m \u001b[0mweight\u001b[0m\u001b[0;34m,\u001b[0m \u001b[0mbias\u001b[0m\u001b[0;34m)\u001b[0m\u001b[0;34m\u001b[0m\u001b[0;34m\u001b[0m\u001b[0m\n\u001b[0m\u001b[1;32m   1848\u001b[0m \u001b[0;34m\u001b[0m\u001b[0m\n\u001b[1;32m   1849\u001b[0m \u001b[0;34m\u001b[0m\u001b[0m\n",
            "\u001b[0;31mRuntimeError\u001b[0m: Expected all tensors to be on the same device, but found at least two devices, cuda:0 and cpu! (when checking arugment for argument mat1 in method wrapper_addmm)"
          ]
        }
      ]
    },
    {
      "cell_type": "code",
      "metadata": {
        "id": "TMke8dJcYxyX"
      },
      "source": [
        "model_best = torch.load(trained_dir_name + '.model')\n",
        "\n",
        "# set to evaluation mode\n",
        "model.eval()\n",
        "\n",
        "test_loss_avg, num_batches = 0, 0\n",
        "\n",
        "for batch_idx, (data, labels) in enumerate(test_dataloader):\n",
        "    \n",
        "  data = data.to(device)  \n",
        "\n",
        "  loss = model.forward(data, reduction = 'sum') \n",
        "\n",
        "  test_loss_avgs += loss.item()\n",
        "  num_batches += 1\n",
        "    \n",
        "test_loss_avg /= num_batches\n",
        "print('Average test loss: %f' % (test_loss_avg))"
      ],
      "execution_count": null,
      "outputs": []
    },
    {
      "cell_type": "code",
      "metadata": {
        "id": "IVAd3diaaCJ8"
      },
      "source": [
        "f = open(result_dir + name + '_test_loss.txt', \"w\")\n",
        "f.write(str(test_loss_avg))\n",
        "f.close()\n",
        "\n",
        "# REAL SAMPLES\n",
        "\n",
        "num_x = 4\n",
        "num_y = 4\n",
        "\n",
        "x = next(iter(test_loader)).detach().numpy()\n",
        "fig, ax = plt.subplots(num_x, num_y)\n",
        "for i, ax in enumerate(ax.flatten()):\n",
        "    plottable_image = np.reshape(x[i], (8, 8))\n",
        "    ax.imshow(plottable_image, cmap='gray')\n",
        "    ax.axis('off')\n",
        "plt.savefig(trained_dir_name+'_real_images.pdf', bbox_inches='tight')\n",
        "plt.close()"
      ],
      "execution_count": null,
      "outputs": []
    },
    {
      "cell_type": "code",
      "metadata": {
        "id": "bnyPgvAJUoKa"
      },
      "source": [
        "# plt.ion()\n",
        "\n",
        "fig = plt.figure()\n",
        "plt.plot(train_loss_avgs)\n",
        "plt.xlabel('Epochs')\n",
        "plt.ylabel('Negative Log Likelihood Loss')\n",
        "plt.show()"
      ],
      "execution_count": null,
      "outputs": []
    }
  ]
}