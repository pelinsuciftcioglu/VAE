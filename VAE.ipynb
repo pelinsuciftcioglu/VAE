{
  "nbformat": 4,
  "nbformat_minor": 0,
  "metadata": {
    "colab": {
      "name": "VAE.ipynb",
      "provenance": [],
      "mount_file_id": "https://github.com/pelinsuciftcioglu/VAE/blob/main/VAE.ipynb",
      "authorship_tag": "ABX9TyP5cGpD8Ng7vNiKV8kMQTyZ",
      "include_colab_link": true
    },
    "kernelspec": {
      "name": "python3",
      "display_name": "Python 3"
    },
    "language_info": {
      "name": "python"
    },
    "accelerator": "GPU"
  },
  "cells": [
    {
      "cell_type": "markdown",
      "metadata": {
        "id": "view-in-github",
        "colab_type": "text"
      },
      "source": [
        "<a href=\"https://colab.research.google.com/github/pelinsuciftcioglu/VAE/blob/main/VAE.ipynb\" target=\"_parent\"><img src=\"https://colab.research.google.com/assets/colab-badge.svg\" alt=\"Open In Colab\"/></a>"
      ]
    },
    {
      "cell_type": "markdown",
      "metadata": {
        "id": "IGnGq9I4RJZi"
      },
      "source": [
        "# **Variational Auto-Encoder (VAE)**"
      ]
    },
    {
      "cell_type": "markdown",
      "metadata": {
        "id": "II9CkyMLhgIj"
      },
      "source": [
        "VAE implementation inspired by:\n",
        "- [Tomczak, J. M. (2021). Introduction to Deep Generative Modeling.](https://https://github.com/jmtomczak/intro_dgm)\n",
        "- [CreativeAI: Deep Learning for Graphics Tutorial Code\n",
        "](https://github.com/smartgeometry-ucl/dl4g/blob/master/variational_autoencoder.ipynb)\n",
        "\n",
        "\n",
        "\n"
      ]
    },
    {
      "cell_type": "code",
      "metadata": {
        "id": "kr7xJ0hJwUZ5"
      },
      "source": [
        "import torch\n",
        "import torch.nn as nn\n",
        "import torch.nn.functional as F\n",
        "import torch.optim\n",
        "import torch.utils\n",
        "import torch.distributions\n",
        "import torchvision\n",
        "import numpy as np\n",
        "import matplotlib.pyplot as plt\n",
        "\n",
        "import os\n",
        "\n",
        "use_gpu = True"
      ],
      "execution_count": 50,
      "outputs": []
    },
    {
      "cell_type": "code",
      "metadata": {
        "id": "d7rMFdHqXJYZ"
      },
      "source": [
        "PI = torch.from_numpy(np.asarray(np.pi))\n",
        "EPS = 1.e-5\n",
        "\n",
        "# DISTRBUTION FOR THE DATA (INPUT)\n",
        "\n",
        "def log_categorical(x, x_new, num_classes, reduction=None, dim=None):\n",
        "    x_one_hot = F.one_hot(x.long(), num_classes)\n",
        "    log_p = x_one_hot * torch.log(torch.clamp(x_new, EPS, 1. - EPS))\n",
        "    if reduction == 'avg':\n",
        "        return torch.mean(log_p, dim)\n",
        "    elif reduction == 'sum':\n",
        "        return torch.sum(log_p, dim)\n",
        "    else:\n",
        "        return log_p\n",
        "\n",
        "def log_bernoulli(x, x_new, reduction=None, dim=None):\n",
        "    x_new = torch.clamp(x_new, EPS, 1. - EPS)\n",
        "    log_p = x * torch.log(x_new) + (1. - x) * torch.log(1. - x_new)\n",
        "    if reduction == 'avg':\n",
        "        return torch.mean(log_p, dim)\n",
        "    elif reduction == 'sum':\n",
        "        return torch.sum(log_p, dim)\n",
        "    else:\n",
        "        return log_p\n",
        "\n",
        "# DISTRIBUTION FOR THE VARIATIONAL INFERENCE\n",
        "def log_normal_diag(x, mu, log_var, reduction=None, dim=None):\n",
        "    D = x.shape[1]\n",
        "    log_p = -0.5 * D * torch.log(2. * PI) - 0.5 * log_var - 0.5 * torch.exp(-log_var) * (x - mu)**2.\n",
        "    if reduction == 'avg':\n",
        "        return torch.mean(log_p, dim)\n",
        "    elif reduction == 'sum':\n",
        "        return torch.sum(log_p, dim)\n",
        "    else:\n",
        "        return log_p\n",
        "\n",
        "\n",
        "# PRIOR DISTRIBUTIONS for p(z)\n",
        "\n",
        "def log_standard_normal(x, reduction=None, dim=None):\n",
        "    D = x.shape[1]\n",
        "    log_p = -0.5 * D * torch.log(2. * PI) - 0.5 * x**2.\n",
        "    if reduction == 'avg':\n",
        "        return torch.mean(log_p, dim)\n",
        "    elif reduction == 'sum':\n",
        "        return torch.sum(log_p, dim)\n",
        "    else:\n",
        "        return log_p"
      ],
      "execution_count": 51,
      "outputs": []
    },
    {
      "cell_type": "code",
      "metadata": {
        "id": "OMVbn06LxAM4"
      },
      "source": [
        "class Encoder(nn.Module):\n",
        "    def __init__(self, D, H, L):\n",
        "        super(Encoder, self).__init__()\n",
        "\n",
        "        self.encoder_net = nn.Sequential(nn.Linear(D, H), nn.LeakyReLU(), nn.Linear(H, H), nn.LeakyReLU(), nn.Linear(H, 2*L))\n",
        "\n",
        "    def encode(self, x):\n",
        "      mu, log_var = self.forward(x)\n",
        "      return mu, log_var\n",
        "\n",
        "    def forward(self, x):\n",
        "      h = self.encoder_net(x)\n",
        "      mu, log_var =  torch.chunk(h, 2, dim=1)\n",
        "\n",
        "      return mu, log_var\n",
        "\n",
        "    def sample(self, mu, log_var):\n",
        "      std = torch.exp(0.5 * log_var)\n",
        "      # Sample epsilon ~ N(0,I)\n",
        "      eps = torch.randn_like(std)\n",
        "      # Reparameterization trick\n",
        "      z = mu + eps * std\n",
        "\n",
        "      return z\n",
        "\n",
        "    def log_prob(self, mu, log_var, z):\n",
        "      return log_normal_diag(z, mu, log_var)\n",
        "\n"
      ],
      "execution_count": 52,
      "outputs": []
    },
    {
      "cell_type": "code",
      "metadata": {
        "id": "cT7wpoop1PJJ"
      },
      "source": [
        "class Decoder(nn.Module):\n",
        "    def __init__(self, D, H, L, distribution, num_vals):\n",
        "        super(Decoder, self).__init__()\n",
        "        self.D = D\n",
        "        self.distribution = distribution\n",
        "        self.num_vals = num_vals\n",
        "\n",
        "        self.decoder_net = nn.Sequential(nn.Linear(L, H), nn.LeakyReLU(), nn.Linear(H, H), nn.LeakyReLU(), nn.Linear(H, D * num_vals))\n",
        "\n",
        "    def decode(self, z):\n",
        "      x_new = self.forward(z)\n",
        "\n",
        "      return x_new\n",
        "\n",
        "    def forward(self, z):\n",
        "      x_new = self.decoder_net(z)\n",
        "      \n",
        "      if self.distribution == 'categorical':\n",
        "        b = x_new.shape[0]\n",
        "        d = self.D\n",
        "        x_new = x_new.reshape(b, d, self.num_vals)\n",
        "        return torch.softmax(x_new, 2)\n",
        "      \n",
        "      elif self.distribution == 'bernoulli':\n",
        "        return torch.sigmoid(x_new)"
      ],
      "execution_count": 53,
      "outputs": []
    },
    {
      "cell_type": "code",
      "metadata": {
        "id": "XMV2Vv6rYVOM"
      },
      "source": [
        "class Prior(nn.Module):\n",
        "    def __init__(self, L, prior_distribution):\n",
        "        super(Prior, self).__init__()\n",
        "        self.L = L\n",
        "        self.distribution = prior_distribution\n",
        "\n",
        "    # def sample(self, batch_size):\n",
        "    #     z = torch.randn((batch_size, self.L))\n",
        "    #     return z\n",
        "\n",
        "    def log_prob(self, z):\n",
        "      if (self.distribution == 'standard normal'):\n",
        "        return log_standard_normal(z)\n",
        "\n",
        "      # elif self.distribution == ''\n",
        "        # return log____(z)"
      ],
      "execution_count": 54,
      "outputs": []
    },
    {
      "cell_type": "code",
      "metadata": {
        "id": "tzfVgQYtP-Lg"
      },
      "source": [
        "class VAE(nn.Module):\n",
        "  def __init__(self, D, H, L, distribution, num_vals, prior_distribution): # Initializations should be added!!!!\n",
        "        super(VAE, self).__init__()\n",
        "        self.encoder = Encoder(D, H, L)\n",
        "        self.decoder = Decoder(D, H, L, distribution, num_vals)\n",
        "        self.prior = Prior(L, prior_distribution)\n",
        "\n",
        "\n",
        "        self.num_vals = num_vals\n",
        "        self.distribution = distribution\n",
        "  \n",
        "  def forward(self, x, reduction='avg'):\n",
        "        x = torch.flatten(x, start_dim=1)\n",
        "        #print(x.size())\n",
        "        #print(x[0])\n",
        "        mu, log_var = self.encoder.encode(x)\n",
        "        z = self.encoder.sample(mu, log_var)\n",
        "\n",
        "        ELBO = self.loss(x, z, mu, log_var, reduction)\n",
        "\n",
        "        return ELBO\n",
        "  \n",
        "  def loss(self, x, z, mu, log_var, reduction='avg'):\n",
        "    # Reconstruction Error\n",
        "    RE = self.log_prob(x, z)\n",
        "\n",
        "    # KL-Divergence\n",
        "    KL = (self.prior.log_prob(z) - self.encoder.log_prob(mu, log_var, z)).sum(-1)\n",
        "\n",
        "    if reduction == 'sum':\n",
        "      return -(RE + KL).sum()\n",
        "    else:\n",
        "      return -(RE + KL).mean()\n",
        "\n",
        "\n",
        "  def log_prob(self, x, z):\n",
        "    x_new = self.decoder.decode(z)\n",
        "\n",
        "    if self.distribution == 'categorical':\n",
        "      log_prob = log_categorical(x, x_new, self.num_vals, reduction='sum', dim=-1).sum(-1)\n",
        "            \n",
        "    elif self.distribution == 'bernoulli':\n",
        "      log_prob = log_bernoulli(x, x_new, reduction='sum', dim=-1)\n",
        "\n",
        "    return log_prob\n"
      ],
      "execution_count": 55,
      "outputs": []
    },
    {
      "cell_type": "markdown",
      "metadata": {
        "id": "jEvP6chRJQ_v"
      },
      "source": [
        "http://yann.lecun.com/exdb/mnist/"
      ]
    },
    {
      "cell_type": "code",
      "metadata": {
        "id": "Z6iSaLkBfA-7"
      },
      "source": [
        "import math\n",
        "import numbers\n",
        "import warnings\n",
        "from enum import Enum\n",
        "\n",
        "import numpy as np\n",
        "from PIL import Image\n",
        "\n",
        "import torch\n",
        "from torch import Tensor\n",
        "from typing import List, Tuple, Any, Optional\n",
        "\n",
        "try:\n",
        "    import accimage\n",
        "except ImportError:\n",
        "    accimage = None\n"
      ],
      "execution_count": 56,
      "outputs": []
    },
    {
      "cell_type": "code",
      "metadata": {
        "id": "Si5Apcn1dhDW"
      },
      "source": [
        "class ToTensor:\n",
        "    def __call__(self, pic):\n",
        "        \"\"\"\n",
        "        Args:\n",
        "            pic (PIL Image or numpy.ndarray): Image to be converted to tensor.\n",
        "        Returns:\n",
        "            Tensor: Converted image.\n",
        "        \"\"\"\n",
        "        return to_tensor(pic)\n",
        "\n",
        "    def __repr__(self):\n",
        "        return self.__class__.__name__ + '()'"
      ],
      "execution_count": 57,
      "outputs": []
    },
    {
      "cell_type": "code",
      "metadata": {
        "id": "0zen4WLidinj"
      },
      "source": [
        "def to_tensor(pic):\n",
        "    \"\"\"Convert a ``PIL Image`` or ``numpy.ndarray`` to tensor.\n",
        "    This function does not support torchscript.\n",
        "    See :class:`~torchvision.transforms.ToTensor` for more details.\n",
        "    Args:\n",
        "        pic (PIL Image or numpy.ndarray): Image to be converted to tensor.\n",
        "    Returns:\n",
        "        Tensor: Converted image.\n",
        "    \"\"\"\n",
        "    default_float_dtype = torch.get_default_dtype()\n",
        "\n",
        "    if isinstance(pic, np.ndarray):\n",
        "        # handle numpy array\n",
        "        if pic.ndim == 2:\n",
        "            pic = pic[:, :, None]\n",
        "\n",
        "        img = torch.from_numpy(pic.transpose((2, 0, 1))).contiguous()\n",
        "        # backward compatibility\n",
        "        if isinstance(img, torch.ByteTensor):\n",
        "            return img.to(dtype=default_float_dtype).div(255)\n",
        "        else:\n",
        "            return img\n",
        "\n",
        "    if accimage is not None and isinstance(pic, accimage.Image):\n",
        "        nppic = np.zeros([pic.channels, pic.height, pic.width], dtype=np.float32)\n",
        "        pic.copyto(nppic)\n",
        "        return torch.from_numpy(nppic).to(dtype=default_float_dtype)\n",
        "\n",
        "    # handle PIL Image\n",
        "    mode_to_nptype = {'I': np.int32, 'I;16': np.int16, 'F': np.float32}\n",
        "    img = torch.from_numpy(\n",
        "        np.array(pic, mode_to_nptype.get(pic.mode, np.uint8), copy=True)\n",
        "    )\n",
        "\n",
        "    if pic.mode == '1':\n",
        "        img = 255 * img\n",
        "    img = img.view(pic.size[1], pic.size[0], len(pic.getbands()))\n",
        "    # put it from HWC to CHW format\n",
        "    img = img.permute((2, 0, 1)).contiguous()\n",
        "    if isinstance(img, torch.ByteTensor):\n",
        "        return img.to(dtype=default_float_dtype)\n",
        "    else:\n",
        "        return img"
      ],
      "execution_count": 58,
      "outputs": []
    },
    {
      "cell_type": "code",
      "metadata": {
        "id": "t_pbbTO8wfUE"
      },
      "source": [
        "# class ToTensor:\n",
        "#   def __call__(self, pic):\n",
        "#     default_float_dtype = torch.get_default_dtype()\n",
        "#     mode_to_nptype = {'I': np.int32, 'I;16': np.int16, 'F': np.float32}\n",
        "#     pic = torch.from_numpy(np.array(pic, mode_to_nptype.get(pic.mode, np.uint8), copy=True))\n",
        "#     img = img.view(pic.size[1], pic.size[0], len(pic.getbands()))\n",
        "#     # put it from HWC to CHW format\n",
        "#     img = img.permute((2, 0, 1)).contiguous()\n",
        "#     return img.to(dtype=default_float_dtype)\n",
        "\n",
        "#   def __repr__(self):\n",
        "#     return self.__class__.__name__ + '()'\n"
      ],
      "execution_count": 59,
      "outputs": []
    },
    {
      "cell_type": "code",
      "metadata": {
        "id": "G2GSk5YuIR3M"
      },
      "source": [
        "import torchvision.transforms as transforms\n",
        "from torch.utils.data import DataLoader\n",
        "from torchvision.datasets import MNIST\n",
        "\n",
        "img_transform = transforms.Compose([ToTensor()])\n",
        "\n",
        "train_dataset = MNIST(root='./data/MNIST', download=True, train=True, transform=img_transform)\n",
        "train_dataloader = DataLoader(train_dataset, batch_size=128, shuffle=True)\n",
        "\n",
        "\n",
        "#test_dataset = MNIST(root='./data/MNIST', download=True, train=False, transform=img_transform)\n",
        "#test_dataloader = DataLoader(test_dataset, batch_size=32, shuffle=False)"
      ],
      "execution_count": 60,
      "outputs": []
    },
    {
      "cell_type": "code",
      "metadata": {
        "id": "kTPpAd7GIPQp"
      },
      "source": [
        "# import tensorflow as tf\n",
        "# import tensorflow_datasets as tfds\n",
        "\n",
        "# (ds_train, ds_test), ds_info = tfds.load(\n",
        "#     'mnist',\n",
        "#     split=['train', 'test'],\n",
        "#     shuffle_files=True,\n",
        "#     as_supervised=True,\n",
        "#     with_info=True,\n",
        "# )\n",
        "\n",
        "# def castToFloat(image, label):\n",
        "#   \"\"\"Normalizes images: `uint8` -> `float32`.\"\"\"\n",
        "#   return tf.cast(image, tf.float32), label\n",
        "\n",
        "# ds_train = ds_train.map(castToFloat, num_parallel_calls=tf.data.experimental.AUTOTUNE)\n",
        "# ds_train = ds_train.batch(128)\n"
      ],
      "execution_count": 61,
      "outputs": []
    },
    {
      "cell_type": "code",
      "metadata": {
        "id": "cKPrUR6ypP52"
      },
      "source": [
        "likelihood_type = 'categorical'\n",
        "\n",
        "if likelihood_type == 'categorical':\n",
        "    num_vals = 256\n",
        "elif likelihood_type == 'bernoulli':\n",
        "    num_vals = 1\n",
        "\n",
        "prior_distribution = 'standard normal'"
      ],
      "execution_count": 62,
      "outputs": []
    },
    {
      "cell_type": "code",
      "metadata": {
        "id": "3FwKPPMwHm6x"
      },
      "source": [
        "D = 28*28\n",
        "H = 98\n",
        "L = 16\n",
        "\n",
        "\n",
        "learning_rate = 1e-3\n",
        "num_epochs = 100"
      ],
      "execution_count": 63,
      "outputs": []
    },
    {
      "cell_type": "code",
      "metadata": {
        "id": "3bj4iLyRU1UA"
      },
      "source": [
        "model = VAE(D, H, L, likelihood_type, num_vals, prior_distribution)\n",
        "\n",
        "device = torch.device(\"cuda\" if use_gpu and torch.cuda.is_available() else \"cpu\")\n",
        "model = model.to(device)\n",
        "\n",
        "optimizer = torch.optim.Adam(params=model.parameters(), lr=learning_rate)"
      ],
      "execution_count": 64,
      "outputs": []
    },
    {
      "cell_type": "markdown",
      "metadata": {
        "id": "_Lxs797lIN0u"
      },
      "source": [
        "      # print(data[0])\n",
        "\n",
        "      # break\n",
        "\n",
        "      #data = data.requires_grad_(True)   \n",
        "      #print(data.size())\n",
        "\n"
      ]
    },
    {
      "cell_type": "code",
      "metadata": {
        "id": "kYaRbY3TGhrx",
        "colab": {
          "base_uri": "https://localhost:8080/"
        },
        "outputId": "86ab3c64-7711-47ef-8daa-32c2486184a4"
      },
      "source": [
        "from torch import autograd\n",
        "\n",
        "\n",
        "train_loss_avgs = []\n",
        "best_loss = 1000.\n",
        "\n",
        "model.train()\n",
        "print(\"Training...\")\n",
        "\n",
        "for epoch in range(num_epochs):\n",
        "  train_loss_avgs.append(0)\n",
        "\n",
        "  for batch_idx, (data, labels) in enumerate(train_dataloader, 1):\n",
        "\n",
        "\n",
        "    with autograd.detect_anomaly():\n",
        "\n",
        "      data = data.to(device)\n",
        "\n",
        "     \n",
        "      \n",
        "      loss = model.forward(data)    \n",
        "      optimizer.zero_grad()\n",
        "      loss.backward(retain_graph=True)    \n",
        "      optimizer.step()    \n",
        "      train_loss_avgs[-1] += loss.item()\n",
        "      num_batches = batch_idx\n",
        "\n",
        "  train_loss_avgs[-1] /= num_batches\n",
        "  print('Epoch [%d / %d] average training loss: %f' % (epoch+1, num_epochs, train_loss_avgs[-1]))\n",
        "\n",
        "\n",
        "\n"
      ],
      "execution_count": 65,
      "outputs": [
        {
          "output_type": "stream",
          "text": [
            "Training...\n"
          ],
          "name": "stdout"
        },
        {
          "output_type": "stream",
          "text": [
            "/usr/local/lib/python3.7/dist-packages/ipykernel_launcher.py:17: UserWarning: Anomaly Detection has been enabled. This mode will increase the runtime and should only be enabled for debugging.\n"
          ],
          "name": "stderr"
        },
        {
          "output_type": "stream",
          "text": [
            "Epoch [1 / 100] average training loss: 182816.797745\n",
            "Epoch [2 / 100] average training loss: 941.475655\n",
            "Epoch [3 / 100] average training loss: 901.875227\n",
            "Epoch [4 / 100] average training loss: 880.934248\n",
            "Epoch [5 / 100] average training loss: 865.473629\n",
            "Epoch [6 / 100] average training loss: 852.865510\n",
            "Epoch [7 / 100] average training loss: 842.046179\n",
            "Epoch [8 / 100] average training loss: 832.676572\n",
            "Epoch [9 / 100] average training loss: 824.705095\n",
            "Epoch [10 / 100] average training loss: 817.815327\n",
            "Epoch [11 / 100] average training loss: 811.267198\n",
            "Epoch [12 / 100] average training loss: 804.943420\n",
            "Epoch [13 / 100] average training loss: 798.308011\n",
            "Epoch [14 / 100] average training loss: 792.083878\n",
            "Epoch [15 / 100] average training loss: 786.066778\n",
            "Epoch [16 / 100] average training loss: 779.927880\n",
            "Epoch [17 / 100] average training loss: 773.453908\n",
            "Epoch [18 / 100] average training loss: 767.493638\n",
            "Epoch [19 / 100] average training loss: 761.703338\n",
            "Epoch [20 / 100] average training loss: 755.276115\n",
            "Epoch [21 / 100] average training loss: 749.704600\n",
            "Epoch [22 / 100] average training loss: 744.808928\n",
            "Epoch [23 / 100] average training loss: 740.758813\n",
            "Epoch [24 / 100] average training loss: 736.440649\n",
            "Epoch [25 / 100] average training loss: 732.436840\n",
            "Epoch [26 / 100] average training loss: 728.801867\n",
            "Epoch [27 / 100] average training loss: 725.620020\n",
            "Epoch [28 / 100] average training loss: 721.723083\n",
            "Epoch [29 / 100] average training loss: 718.719755\n",
            "Epoch [30 / 100] average training loss: 715.445683\n",
            "Epoch [31 / 100] average training loss: 712.783519\n",
            "Epoch [32 / 100] average training loss: 709.933048\n",
            "Epoch [33 / 100] average training loss: 707.607478\n",
            "Epoch [34 / 100] average training loss: 705.486546\n",
            "Epoch [35 / 100] average training loss: 703.127697\n",
            "Epoch [36 / 100] average training loss: 700.804835\n",
            "Epoch [37 / 100] average training loss: 698.664658\n",
            "Epoch [38 / 100] average training loss: 697.275372\n",
            "Epoch [39 / 100] average training loss: 695.170181\n",
            "Epoch [40 / 100] average training loss: 693.646119\n",
            "Epoch [41 / 100] average training loss: 691.908727\n",
            "Epoch [42 / 100] average training loss: 690.460009\n",
            "Epoch [43 / 100] average training loss: 688.905401\n",
            "Epoch [44 / 100] average training loss: 687.833419\n",
            "Epoch [45 / 100] average training loss: 686.319943\n",
            "Epoch [46 / 100] average training loss: 684.712952\n",
            "Epoch [47 / 100] average training loss: 683.829861\n",
            "Epoch [48 / 100] average training loss: 682.558100\n",
            "Epoch [49 / 100] average training loss: 681.556512\n",
            "Epoch [50 / 100] average training loss: 680.554206\n",
            "Epoch [51 / 100] average training loss: 679.437156\n",
            "Epoch [52 / 100] average training loss: 678.768226\n",
            "Epoch [53 / 100] average training loss: 677.704002\n",
            "Epoch [54 / 100] average training loss: 676.727767\n",
            "Epoch [55 / 100] average training loss: 675.991177\n",
            "Epoch [56 / 100] average training loss: 675.034481\n",
            "Epoch [57 / 100] average training loss: 674.361466\n",
            "Epoch [58 / 100] average training loss: 673.273868\n",
            "Epoch [59 / 100] average training loss: 672.943200\n",
            "Epoch [60 / 100] average training loss: 671.780425\n",
            "Epoch [61 / 100] average training loss: 671.373836\n",
            "Epoch [62 / 100] average training loss: 670.334337\n",
            "Epoch [63 / 100] average training loss: 669.581749\n",
            "Epoch [64 / 100] average training loss: 668.774956\n",
            "Epoch [65 / 100] average training loss: 668.469225\n",
            "Epoch [66 / 100] average training loss: 667.677998\n",
            "Epoch [67 / 100] average training loss: 666.983215\n",
            "Epoch [68 / 100] average training loss: 666.069647\n",
            "Epoch [69 / 100] average training loss: 665.137574\n",
            "Epoch [70 / 100] average training loss: 665.170253\n",
            "Epoch [71 / 100] average training loss: 663.951273\n",
            "Epoch [72 / 100] average training loss: 663.616562\n",
            "Epoch [73 / 100] average training loss: 663.208772\n",
            "Epoch [74 / 100] average training loss: 662.305646\n",
            "Epoch [75 / 100] average training loss: 661.761443\n",
            "Epoch [76 / 100] average training loss: 660.970306\n",
            "Epoch [77 / 100] average training loss: 660.663721\n",
            "Epoch [78 / 100] average training loss: 659.989006\n",
            "Epoch [79 / 100] average training loss: 659.378847\n",
            "Epoch [80 / 100] average training loss: 658.870897\n",
            "Epoch [81 / 100] average training loss: 658.882407\n",
            "Epoch [82 / 100] average training loss: 657.865766\n",
            "Epoch [83 / 100] average training loss: 657.839121\n",
            "Epoch [84 / 100] average training loss: 657.205552\n",
            "Epoch [85 / 100] average training loss: 656.343230\n",
            "Epoch [86 / 100] average training loss: 656.342401\n",
            "Epoch [87 / 100] average training loss: 655.374152\n",
            "Epoch [88 / 100] average training loss: 655.214272\n",
            "Epoch [89 / 100] average training loss: 654.654353\n",
            "Epoch [90 / 100] average training loss: 654.382594\n",
            "Epoch [91 / 100] average training loss: 654.045465\n",
            "Epoch [92 / 100] average training loss: 653.353255\n",
            "Epoch [93 / 100] average training loss: 653.334250\n",
            "Epoch [94 / 100] average training loss: 652.603708\n",
            "Epoch [95 / 100] average training loss: 652.620819\n",
            "Epoch [96 / 100] average training loss: 651.792387\n",
            "Epoch [97 / 100] average training loss: 651.262648\n",
            "Epoch [98 / 100] average training loss: 651.275593\n",
            "Epoch [99 / 100] average training loss: 650.993099\n",
            "Epoch [100 / 100] average training loss: 650.494595\n"
          ],
          "name": "stdout"
        }
      ]
    },
    {
      "cell_type": "code",
      "metadata": {
        "id": "bnyPgvAJUoKa",
        "outputId": "105e9914-e8de-4429-9e0d-b9eb52140937",
        "colab": {
          "base_uri": "https://localhost:8080/",
          "height": 278
        }
      },
      "source": [
        "plt.ion()\n",
        "\n",
        "fig = plt.figure()\n",
        "plt.plot(train_loss_avgs[1:])\n",
        "plt.xlabel('Epochs')\n",
        "plt.ylabel('Loss')\n",
        "plt.show()"
      ],
      "execution_count": 68,
      "outputs": [
        {
          "output_type": "display_data",
          "data": {
            "image/png": "[encoded data removed]",
            "text/plain": [
              "<Figure size 432x288 with 1 Axes>"
            ]
          },
          "metadata": {
            "tags": [],
            "needs_background": "light"
          }
        }
      ]
    },
    {
      "cell_type": "code",
      "metadata": {
        "id": "l67D9Mb-bdyt"
      },
      "source": [
        "\n",
        "import urllib\n",
        "if not os.path.isdir('./Trained Models'):\n",
        "    os.makedirs('./Trained Models')\n",
        "\n",
        "torch.save(model.state_dict(), \"./Trained Models/VAE_First\")"
      ],
      "execution_count": 69,
      "outputs": []
    },
    {
      "cell_type": "code",
      "metadata": {
        "id": "XAsQs2elU_GI",
        "outputId": "c432c79f-d349-4ff9-b3af-8c5b20367678",
        "colab": {
          "base_uri": "https://localhost:8080/"
        }
      },
      "source": [
        "\n",
        "\n",
        "filename =  \"/VAE_First\"\n",
        "\n",
        "print('downloading ...')\n",
        "\n",
        "model.load_state_dict(torch.load('./Trained Models'+filename))\n",
        "print('done')\n"
      ],
      "execution_count": 70,
      "outputs": [
        {
          "output_type": "stream",
          "text": [
            "downloading ...\n",
            "done\n"
          ],
          "name": "stdout"
        }
      ]
    },
    {
      "cell_type": "code",
      "metadata": {
        "id": "eBG3Ga0SWAzq"
      },
      "source": [
        "test_dataset = MNIST(root='./data/MNIST', download=True, train=False, transform=img_transform)\n",
        "test_dataloader = DataLoader(test_dataset, batch_size=128, shuffle=False)"
      ],
      "execution_count": 71,
      "outputs": []
    },
    {
      "cell_type": "code",
      "metadata": {
        "id": "hFa1Z2UlV2Om",
        "outputId": "c0ee19f5-060d-4aca-dcd7-8c25ffbfadc2",
        "colab": {
          "base_uri": "https://localhost:8080/"
        }
      },
      "source": [
        "# set to evaluation mode\n",
        "model.eval()\n",
        "\n",
        "test_loss_avgs, num_batches = 0, 0\n",
        "\n",
        "for batch_idx, (data, labels) in enumerate(test_dataloader):\n",
        "    \n",
        "    with torch.no_grad():\n",
        "    \n",
        "        data = data.to(device)\n",
        "\n",
        "        # reconstruction error\n",
        "        loss = model.forward(data)\n",
        "\n",
        "        test_loss_avgs += loss.item()\n",
        "        num_batches += 1\n",
        "    \n",
        "test_loss_avgs /= num_batches\n",
        "print('average loss: %f' % (test_loss_avgs))"
      ],
      "execution_count": 72,
      "outputs": [
        {
          "output_type": "stream",
          "text": [
            "average loss: 798.117806\n"
          ],
          "name": "stdout"
        }
      ]
    }
  ]
}