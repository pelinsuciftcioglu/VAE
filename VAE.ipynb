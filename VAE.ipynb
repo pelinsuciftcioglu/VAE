{
  "nbformat": 4,
  "nbformat_minor": 0,
  "metadata": {
    "colab": {
      "name": "VAE.ipynb",
      "provenance": [],
      "include_colab_link": true
    },
    "kernelspec": {
      "name": "python3",
      "display_name": "Python 3"
    },
    "language_info": {
      "name": "python"
    },
    "accelerator": "GPU"
  },
  "cells": [
    {
      "cell_type": "markdown",
      "metadata": {
        "id": "view-in-github",
        "colab_type": "text"
      },
      "source": [
        "<a href=\"https://colab.research.google.com/github/pelinsuciftcioglu/VAE/blob/main/VAE.ipynb\" target=\"_parent\"><img src=\"https://colab.research.google.com/assets/colab-badge.svg\" alt=\"Open In Colab\"/></a>"
      ]
    },
    {
      "cell_type": "markdown",
      "metadata": {
        "id": "IGnGq9I4RJZi"
      },
      "source": [
        "# **Variational Auto-Encoder (VAE)**"
      ]
    },
    {
      "cell_type": "markdown",
      "metadata": {
        "id": "II9CkyMLhgIj"
      },
      "source": [
        "VAE implementation inspired by:\n",
        "- [Tomczak, J. M. (2021). Introduction to Deep Generative Modeling.](https://https://github.com/jmtomczak/intro_dgm)\n",
        "- [CreativeAI: Deep Learning for Graphics Tutorial Code\n",
        "](https://github.com/smartgeometry-ucl/dl4g/blob/master/variational_autoencoder.ipynb)\n",
        "\n",
        "\n",
        "\n"
      ]
    },
    {
      "cell_type": "markdown",
      "metadata": {
        "id": "oIMNIzJY2ann"
      },
      "source": [
        "\n",
        "\n",
        "```\n",
        "pip install --upgrade jupyter_http_over_ws>=0.0.7 && jupyter serverextension enable --py jupyter_http_over_ws\n",
        "\n",
        "jupyter notebook --NotebookApp.allow_origin='https://colab.research.google.com' --port=8888 --NotebookApp.port_retries=0\n",
        "```\n",
        "\n"
      ]
    },
    {
      "cell_type": "code",
      "metadata": {
        "id": "kr7xJ0hJwUZ5"
      },
      "source": [
        "import torch\n",
        "import torch.nn as nn\n",
        "import torch.nn.functional as F\n",
        "import torch.optim\n",
        "import torch.utils\n",
        "import torch.distributions\n",
        "import torchvision\n",
        "from torch import autograd  # TO USE \"with autograd.detect_anomaly():\"\n",
        "import numpy as np\n",
        "import matplotlib.pyplot as plt\n",
        "import math\n",
        "import random\n",
        "\n",
        "\n",
        "import os\n",
        "\n",
        "use_gpu = True"
      ],
      "execution_count": 1,
      "outputs": []
    },
    {
      "cell_type": "code",
      "metadata": {
        "id": "Si5Apcn1dhDW"
      },
      "source": [
        "# CUSTOM TRANFORM FOR THE DATA WITHOUT NORMALIZING\n",
        "\"\"\"\n",
        "https://github.com/pytorch/vision/blob/a839796328cf4f789c9de5da0b3367b742b5a00c/torchvision/transforms/transforms.py\n",
        "\n",
        "\"\"\"\n",
        "\n",
        "import numbers\n",
        "import warnings\n",
        "from enum import Enum\n",
        "\n",
        "from PIL import Image\n",
        "\n",
        "from typing import List, Tuple, Any, Optional\n",
        "\n",
        "try:\n",
        "    import accimage\n",
        "except ImportError:\n",
        "    accimage = None\n",
        "\n",
        "class ToTensor:\n",
        "    def __call__(self, pic):\n",
        "        \"\"\"\n",
        "        Args:\n",
        "            pic (PIL Image or numpy.ndarray): Image to be converted to tensor.\n",
        "        Returns:\n",
        "            Tensor: Converted image.\n",
        "        \"\"\"\n",
        "        return to_tensor(np.array(pic))\n",
        "\n",
        "    def __repr__(self):\n",
        "        return self.__class__.__name__ + '()'\n",
        "\n",
        "def to_tensor(pic):\n",
        "    \"\"\"Convert a ``PIL Image`` or ``numpy.ndarray`` to tensor.\n",
        "    This function does not support torchscript.\n",
        "    See :class:`~torchvision.transforms.ToTensor` for more details.\n",
        "    Args:\n",
        "        pic (PIL Image or numpy.ndarray): Image to be converted to tensor.\n",
        "    Returns:\n",
        "        Tensor: Converted image.\n",
        "    \"\"\"\n",
        "    default_float_dtype = torch.get_default_dtype()\n",
        "\n",
        "    if isinstance(pic, np.ndarray):\n",
        "        # handle numpy array\n",
        "        if pic.ndim == 2:\n",
        "            pic = pic[:, :, None]\n",
        "\n",
        "        img = torch.from_numpy(pic.transpose((2, 0, 1))).contiguous()\n",
        "        # backward compatibility\n",
        "        if isinstance(img, torch.ByteTensor):\n",
        "            return img.to(dtype=default_float_dtype)\n",
        "        else:\n",
        "            return img\n",
        "\n",
        "    if accimage is not None and isinstance(pic, accimage.Image):\n",
        "        nppic = np.zeros([pic.channels, pic.height, pic.width], dtype=np.float32)\n",
        "        pic.copyto(nppic)\n",
        "        return torch.from_numpy(nppic).to(dtype=default_float_dtype)\n",
        "\n",
        "    # handle PIL Image\n",
        "    mode_to_nptype = {'I': np.int32, 'I;16': np.int16, 'F': np.float32}\n",
        "    img = torch.from_numpy(\n",
        "        np.array(pic, mode_to_nptype.get(pic.mode, np.uint8), copy=True)\n",
        "    )\n",
        "\n",
        "    if pic.mode == '1':\n",
        "        img = 255 * img\n",
        "    img = img.view(pic.size[1], pic.size[0], len(pic.getbands()))\n",
        "    # put it from HWC to CHW format\n",
        "    img = img.permute((2, 0, 1)).contiguous()\n",
        "    if isinstance(img, torch.ByteTensor):\n",
        "        return img.to(dtype=default_float_dtype)\n",
        "    else:\n",
        "        return img"
      ],
      "execution_count": 2,
      "outputs": []
    },
    {
      "cell_type": "code",
      "metadata": {
        "id": "Y0zm7zL7yieE"
      },
      "source": [
        "import torchvision.transforms as transforms\n",
        "from torch.utils.data import DataLoader, TensorDataset\n",
        "from torchvision.datasets import MNIST\n",
        "\n",
        "def load_static_mnist(batch_size, is_binary = True, use_training_data_init = True):\n",
        "    # set args\n",
        "    input_size = [1, 28, 28]\n",
        "    number_components = 1\n",
        "\n",
        "    if is_binary:\n",
        "      # start processing\n",
        "      def lines_to_np_array(lines):\n",
        "          return np.array([[int(i) for i in line.split()] for line in lines])\n",
        "      with open(os.path.join('data', 'MNIST_static', 'binarized_mnist_train.amat')) as f:\n",
        "          lines = f.readlines()\n",
        "      x_train = lines_to_np_array(lines).astype('float32')\n",
        "      with open(os.path.join('data', 'MNIST_static', 'binarized_mnist_valid.amat')) as f:\n",
        "          lines = f.readlines()\n",
        "      x_val = lines_to_np_array(lines).astype('float32')\n",
        "      with open(os.path.join('data', 'MNIST_static', 'binarized_mnist_test.amat')) as f:\n",
        "          lines = f.readlines()\n",
        "\n",
        "      x_test = lines_to_np_array(lines).astype('float32')\n",
        "\n",
        "      # shuffle train data\n",
        "      np.random.shuffle(x_train)\n",
        "\n",
        "      # idle y's\n",
        "      y_train = np.zeros((x_train.shape[0], 1))\n",
        "      y_val = np.zeros((x_val.shape[0], 1))\n",
        "      y_test = np.zeros((x_test.shape[0], 1))\n",
        "\n",
        "\n",
        "    else:\n",
        "      train_dataloader = DataLoader(MNIST(root='./data/MNIST', download=True, train=True, transform=transforms.Compose([ToTensor()])), batch_size=batch_size, shuffle=True)\n",
        "      test_dataloader = DataLoader(MNIST('./data/MNIST', train=False, download=True, transform=transforms.Compose([ToTensor()])), batch_size=batch_size, shuffle=True)\n",
        "\n",
        "      x_train = train_dataloader.dataset.data.float().numpy()\n",
        "      x_train = np.reshape(x_train, (x_train.shape[0], x_train.shape[1] * x_train.shape[2] ) )\n",
        "\n",
        "      y_train = np.array( train_dataloader.dataset.targets.float().numpy(), dtype=int)\n",
        "\n",
        "      x_test = test_dataloader.dataset.data.float().numpy()\n",
        "      x_test = np.reshape( x_test, (x_test.shape[0], x_test.shape[1] * x_test.shape[2] ) )\n",
        "\n",
        "      y_test = np.array( test_dataloader.dataset.targets.float().numpy(), dtype=int)\n",
        "\n",
        "      # validation set\n",
        "      x_val = x_train[50000:60000]\n",
        "      y_val = np.array(y_train[50000:60000], dtype=int)\n",
        "      x_train = x_train[0:50000]\n",
        "      y_train = np.array(y_train[0:50000], dtype=int)\n",
        "\n",
        "    # pytorch data loader\n",
        "    train = TensorDataset(torch.from_numpy(x_train), torch.from_numpy(y_train))\n",
        "    train_dataloader = DataLoader(train, batch_size=batch_size, shuffle=True)\n",
        "\n",
        "    validation = TensorDataset(torch.from_numpy(x_val).float(), torch.from_numpy(y_val))\n",
        "    val_dataloader = DataLoader(validation, batch_size=batch_size, shuffle=False)\n",
        "\n",
        "    test = TensorDataset(torch.from_numpy(x_test).float(), torch.from_numpy(y_test))\n",
        "    test_dataloader = DataLoader(test, batch_size=batch_size, shuffle=False)\n",
        "\n",
        "\n",
        "    # setting pseudo-inputs inits\n",
        "    if use_training_data_init == 1:\n",
        "      pseudoinputs_std = 0.01\n",
        "      init = x_train[0:number_components].T\n",
        "      pseudoinputs_mean = torch.from_numpy( init + pseudoinputs_std * np.random.randn(np.prod(input_size), number_components) ).float()\n",
        "    else:\n",
        "      pseudoinputs_mean = 0.05\n",
        "      pseudoinputs_std = 0.01\n",
        "\n",
        "    return train_dataloader, val_dataloader, test_dataloader"
      ],
      "execution_count": 3,
      "outputs": []
    },
    {
      "cell_type": "code",
      "metadata": {
        "id": "GELgYAtrKPls"
      },
      "source": [
        "class_names = ['Zero', 'One', 'Two', 'Three', 'Four', 'Five', 'Six', 'Seven', 'Eight', 'Nine']\n",
        "\n",
        "def plot_data(file_name, num_images, images, labels=None, is_binary=True, reconstructed=False):\n",
        "  if reconstructed and is_binary:\n",
        "    images = torch.ceil(images * 255)\n",
        "    images = 255 - images\n",
        "\n",
        "  color = \"gray_r\"\n",
        "  if is_binary:\n",
        "    color = \"gray\"\n",
        "\n",
        "  images = images.cpu()\n",
        "\n",
        "  images = images.detach().numpy()\n",
        "\n",
        "  grid = math.ceil(math.sqrt(num_images))\n",
        "  plt.figure(figsize=(grid*2,grid*2))\n",
        "  for i in range(num_images):\n",
        "      plt.subplot(grid,grid,i+1)\n",
        "      plt.xticks([])\n",
        "      plt.yticks([])\n",
        "      plt.grid(False)     \n",
        "      plt.imshow(images[i].reshape(28,28), cmap=color)\n",
        "      if labels != None:\n",
        "        plt.xlabel(class_names[labels[i]])      \n",
        "  plt.savefig(file_name)\n",
        "  plt.close()"
      ],
      "execution_count": 4,
      "outputs": []
    },
    {
      "cell_type": "code",
      "metadata": {
        "id": "d7rMFdHqXJYZ"
      },
      "source": [
        "PI = torch.from_numpy(np.asarray(np.pi))\n",
        "EPS = 1.e-5\n",
        "\n",
        "# DISTRBUTION FOR THE DATA (INPUT)\n",
        "\n",
        "def log_categorical(x, x_new, num_classes, reduction=None, dim=None):\n",
        "    x_one_hot = F.one_hot(x.long(), num_classes)\n",
        "    log_p = x_one_hot * torch.log(torch.clamp(x_new, EPS, 1. - EPS))\n",
        "    if reduction == 'avg':\n",
        "        return torch.mean(log_p, dim)\n",
        "    elif reduction == 'sum':\n",
        "        # 32 x 784 x 256\n",
        "        return torch.sum(log_p, dim)\n",
        "        # 32 x 784\n",
        "    else:\n",
        "        return log_p\n",
        "\n",
        "def log_bernoulli(x, x_new, reduction=None, dim=None):\n",
        "    x_new = torch.clamp(x_new, EPS, 1. - EPS)\n",
        "    log_p = x * torch.log(x_new) + (1. - x) * torch.log(1. - x_new)\n",
        "    if reduction == 'avg':\n",
        "        return torch.mean(log_p, dim)\n",
        "    elif reduction == 'sum':\n",
        "        return torch.sum(log_p, dim)\n",
        "    else:\n",
        "        return log_p\n",
        "\n",
        "# DISTRIBUTION FOR THE VARIATIONAL INFERENCE\n",
        "\n",
        "def log_normal_diag(x, mu, log_var, reduction=None, dim=None):\n",
        "    D = x.shape[1]\n",
        "    log_p = -0.5 * D * torch.log(2. * PI) - 0.5 * log_var - 0.5 * torch.exp(-log_var) * (x - mu)**2.\n",
        "    if reduction == 'avg':\n",
        "        return torch.mean(log_p, dim)\n",
        "    elif reduction == 'sum':\n",
        "        return torch.sum(log_p, dim)\n",
        "    else:\n",
        "        return log_p\n",
        "\n",
        "\n",
        "# PRIOR DISTRIBUTIONS for p(z)\n",
        "\n",
        "def log_standard_normal(x, reduction=None, dim=None):\n",
        "    D = x.shape[1]\n",
        "    log_p = -0.5 * D * torch.log(2. * PI) - 0.5 * x**2.\n",
        "    if reduction == 'avg':\n",
        "        return torch.mean(log_p, dim)\n",
        "    elif reduction == 'sum':\n",
        "        return torch.sum(log_p, dim)\n",
        "    else:\n",
        "        return log_p"
      ],
      "execution_count": 5,
      "outputs": []
    },
    {
      "cell_type": "code",
      "metadata": {
        "id": "OMVbn06LxAM4"
      },
      "source": [
        "class Encoder(nn.Module):\n",
        "    def __init__(self, D, H, L):\n",
        "        super(Encoder, self).__init__()\n",
        "\n",
        "        self.encoder_net = nn.Sequential(nn.Linear(D, D//2), nn.ReLU(), nn.Linear(D//2, H//2), nn.ReLU(), nn.Linear(H//2, H//4), nn.ReLU(), nn.Linear(H//4, 2*L))\n",
        "\n",
        "    def encode(self, x):\n",
        "      # Flatten the input to a single dimension\n",
        "      x = torch.flatten(x, start_dim=1)\n",
        "\n",
        "      mu, log_var = self.forward(x)\n",
        "\n",
        "      return x, mu, log_var\n",
        "\n",
        "    def forward(self, x):\n",
        "      x = x.to(device)\n",
        "\n",
        "      h = self.encoder_net(x)\n",
        "\n",
        "      # Split the neural network output for means and log variances\n",
        "      mu, log_var =  torch.chunk(h, 2, dim=1)\n",
        "      return mu, log_var\n",
        "\n",
        "    def sample(self, mu, log_var):\n",
        "      std = torch.exp(0.5 * log_var)\n",
        "      # Sample epsilon ~ N(0,I)\n",
        "      eps = torch.randn_like(std)\n",
        "      # Reparameterization trick\n",
        "      z = mu + eps * std\n",
        "      return z\n",
        "\n",
        "    def log_prob(self, mu, log_var, z):\n",
        "      return log_normal_diag(z, mu, log_var)"
      ],
      "execution_count": 6,
      "outputs": []
    },
    {
      "cell_type": "code",
      "metadata": {
        "id": "cT7wpoop1PJJ"
      },
      "source": [
        "class Decoder(nn.Module):\n",
        "    def __init__(self, D, H, L, distribution, num_vals):\n",
        "        super(Decoder, self).__init__()\n",
        "        self.D = D\n",
        "        self.distribution = distribution\n",
        "        self.num_vals = num_vals\n",
        "\n",
        "        self.decoder_net = nn.Sequential(nn.Linear(L, H//4), nn.ReLU(), nn.Linear(H//4, H//2), nn.ReLU(), nn.Linear(H//2, D//2), nn.ReLU(), nn.Linear(D//2, D * num_vals))\n",
        "\n",
        "    def decode(self, z):\n",
        "      x_new = self.forward(z)\n",
        "\n",
        "      return x_new\n",
        "\n",
        "    def forward(self, z):\n",
        "      x_new = self.decoder_net(z)\n",
        "      \n",
        "      if self.distribution == 'categorical':\n",
        "        b = x_new.shape[0]\n",
        "        d = self.D\n",
        "        x_new = x_new.reshape(b, d, self.num_vals)\n",
        "        return torch.softmax(x_new, 2)\n",
        "      \n",
        "      elif self.distribution == 'bernoulli':\n",
        "        return torch.sigmoid(x_new)\n",
        "\n",
        "    def sample(self, z):\n",
        "        x_generated = self.decode(z)\n",
        "\n",
        "        if self.distribution == 'categorical':\n",
        "            b = x_generated.shape[0]\n",
        "            m = x_generated.shape[1]\n",
        "            x_generated = x_generated.view(b, -1, self.num_vals)\n",
        "            p = x_generated.view(-1, self.num_vals)\n",
        "            x_generated = torch.multinomial(p, num_samples=1).view(b, m)\n",
        "        elif self.distribution == 'bernoulli':\n",
        "            x_generated = torch.bernoulli(x_generated)\n",
        "\n",
        "        return x_generated"
      ],
      "execution_count": 7,
      "outputs": []
    },
    {
      "cell_type": "code",
      "metadata": {
        "id": "XMV2Vv6rYVOM"
      },
      "source": [
        "class Prior(nn.Module):\n",
        "    def __init__(self, L, prior_distribution):\n",
        "        super(Prior, self).__init__()\n",
        "        self.L = L\n",
        "        self.distribution = prior_distribution\n",
        "\n",
        "    def sample(self, batch_size):\n",
        "        z = torch.randn((batch_size, self.L))\n",
        "        return z\n",
        "\n",
        "    def log_prob(self, z):\n",
        "      if (self.distribution == 'standard normal'):\n",
        "        return log_standard_normal(z)\n",
        "\n",
        "      # elif self.distribution == ''\n",
        "        # return log____(z)"
      ],
      "execution_count": 8,
      "outputs": []
    },
    {
      "cell_type": "code",
      "metadata": {
        "id": "tzfVgQYtP-Lg"
      },
      "source": [
        "class VAE(nn.Module):\n",
        "  def __init__(self, D, H, L, distribution, num_vals, prior_distribution):\n",
        "        super(VAE, self).__init__()\n",
        "        self.encoder = Encoder(D, H, L)\n",
        "        self.decoder = Decoder(D, H, L, distribution, num_vals)\n",
        "        self.prior = Prior(L, prior_distribution)\n",
        "\n",
        "\n",
        "        self.num_vals = num_vals\n",
        "        self.distribution = distribution\n",
        "  \n",
        "  def forward(self, x, reduction='avg'):\n",
        "        \n",
        "        x, mu, log_var = self.encoder.encode(x)\n",
        "\n",
        "        # Sample z based on the mean and log variance\n",
        "        z = self.encoder.sample(mu, log_var)\n",
        "\n",
        "        # Decode the latent representation and reconstruct input\n",
        "        x_new = self.decoder.decode(z)\n",
        "\n",
        "        # Reconstructed images based on the highest probability assigned for each pixel\n",
        "        if (self.distribution == 'categorical'):\n",
        "          x_reconstructed, idx = torch.max(x_new, dim=2)\n",
        "        else:\n",
        "          x_reconstructed = x_new\n",
        "\n",
        "        # Evidence Lower Bound\n",
        "        ELBO = self.loss(x, x_new, z, mu, log_var, reduction)\n",
        "\n",
        "        return x_reconstructed, ELBO\n",
        "  \n",
        "  def loss(self, x, x_new, z, mu, log_var, reduction='avg'):\n",
        "    # Reconstruction Error\n",
        "    RE = self.log_prob(x, x_new)\n",
        "\n",
        "    # KL-Divergence\n",
        "    KL = (self.prior.log_prob(z) - self.encoder.log_prob(mu, log_var, z)).sum(-1)\n",
        "\n",
        "    if reduction == 'sum':\n",
        "      # For testing sum all the loss values in the batch then take the average in the training loop\n",
        "      return -(RE + KL).sum() \n",
        "    else:\n",
        "      # For training calculate the mean of the loss values of the batch\n",
        "      return -(RE + KL).mean()\n",
        "\n",
        "\n",
        "  def log_prob(self, x, x_new):\n",
        "\n",
        "    if self.distribution == 'categorical':\n",
        "      log_prob = log_categorical(x, x_new, self.num_vals, reduction='sum', dim=-1).sum(-1)  # (32)\n",
        "\n",
        "    elif self.distribution == 'bernoulli':\n",
        "      log_prob = log_bernoulli(x, x_new, reduction='sum', dim=-1)\n",
        "\n",
        "    return log_prob\n",
        "\n",
        "  def sample(self, batch_size=128):\n",
        "    z = self.prior.sample(batch_size=batch_size)\n",
        "\n",
        "    z = z.to(device)  # FOR GENERATING SAMPLES\n",
        "\n",
        "    return self.decoder.sample(z)"
      ],
      "execution_count": 9,
      "outputs": []
    },
    {
      "cell_type": "code",
      "metadata": {
        "id": "cKPrUR6ypP52"
      },
      "source": [
        "# DISTRUBUTION FOR THE INPUT DATA\n",
        "likelihood_type = 'bernoulli'\n",
        "\n",
        "if likelihood_type == 'categorical':\n",
        "    num_vals = 256\n",
        "    is_binary = False\n",
        "elif likelihood_type == 'bernoulli':\n",
        "    num_vals = 1\n",
        "    is_binary = True\n",
        "\n",
        "prior_distribution = 'standard normal'"
      ],
      "execution_count": 10,
      "outputs": []
    },
    {
      "cell_type": "code",
      "metadata": {
        "id": "3FwKPPMwHm6x"
      },
      "source": [
        "D = 28*28 # INPUT DATA DIMENSIONALITY\n",
        "H = 256   # HIDDEN LAYER NODES\n",
        "L = 2    # LATENT VARIABLES DIMENSIONALITY\n",
        "\n",
        "learning_rate = 0.001\n",
        "num_epochs = 100\n",
        "\n",
        "batch_size = 32"
      ],
      "execution_count": 11,
      "outputs": []
    },
    {
      "cell_type": "code",
      "metadata": {
        "id": "3bj4iLyRU1UA"
      },
      "source": [
        "model = VAE(D, H, L, likelihood_type, num_vals, prior_distribution)\n",
        "\n",
        "device = torch.device(\"cuda\" if use_gpu and torch.cuda.is_available() else \"cpu\")\n",
        "model = model.to(device)\n",
        "\n",
        "# ADAM OPTIMIZER\n",
        "optimizer = torch.optim.Adam([p for p in model.parameters() if p.requires_grad == True], lr=learning_rate)"
      ],
      "execution_count": 12,
      "outputs": []
    },
    {
      "cell_type": "code",
      "metadata": {
        "id": "g1P_Z587OHIN"
      },
      "source": [
        "results_dir = 'Results/'\n",
        "if not(os.path.exists(results_dir)):\n",
        "    os.mkdir(results_dir)\n",
        "\n",
        "model_name = 'VAE'"
      ],
      "execution_count": 13,
      "outputs": []
    },
    {
      "cell_type": "code",
      "metadata": {
        "id": "5NZ6E__OXtlW"
      },
      "source": [
        "def generate_samples(name, extra_name, num_samples):\n",
        "  \n",
        "  model_best = torch.load(name + '.model')\n",
        "\n",
        "  model_best = model_best.to(device)\n",
        "\n",
        "  model_best.eval()\n",
        "\n",
        "  x = torch.tensor(0, device=device)\n",
        "\n",
        "  x = model_best.sample(num_samples)\n",
        "\n",
        "  x = x.cpu()\n",
        "\n",
        "  plot_data(name + '_Generated_images' + extra_name, num_samples, x)  "
      ],
      "execution_count": 14,
      "outputs": []
    },
    {
      "cell_type": "code",
      "metadata": {
        "id": "kYaRbY3TGhrx",
        "colab": {
          "base_uri": "https://localhost:8080/",
          "height": 508
        },
        "outputId": "f6e94c17-90ba-46dd-8db0-9054f2c69de7"
      },
      "source": [
        "train_dataloader, val_dataloader, test_dataloader = load_static_mnist(batch_size, is_binary)\n",
        "\n",
        "train_loss_avgs = []\n",
        "best_loss = 1000.\n",
        "\n",
        "num_samples = 16\n",
        "\n",
        "print(\"Training...\")\n",
        "\n",
        "name = results_dir + model_name\n",
        "\n",
        "for epoch in range(num_epochs):\n",
        "  model.train()\n",
        "\n",
        "  train_loss_avgs.append(0)\n",
        "  num_batches = 0\n",
        "  for batch_idx, (data, labels) in enumerate(train_dataloader, 1):\n",
        "\n",
        "    #with autograd.detect_anomaly():\n",
        "      \n",
        "    data = data.to(device)\n",
        "\n",
        "    x_reconstructed, loss = model.forward(data)\n",
        "\n",
        "    optimizer.zero_grad()\n",
        "    loss.backward(retain_graph=True)    \n",
        "    optimizer.step()    \n",
        "    train_loss_avgs[-1] += loss.item()\n",
        "    num_batches += 1\n",
        "\n",
        "    if batch_idx == random.randint(0, len(train_dataloader)):\n",
        "      plot_data(name + \"_Reconstructed_images_epoch_\" + str(epoch+1) + \"_batch_\" + str(batch_idx), num_samples, x_reconstructed, labels, is_binary, reconstructed=True)\n",
        "\n",
        "  train_loss_avgs[-1] /= num_batches\n",
        "  print('Epoch [%d / %d] average training loss: %f' % (epoch+1, num_epochs, train_loss_avgs[-1]))\n",
        "\n",
        "  if epoch == 0:\n",
        "    print('Model Saved!')\n",
        "    torch.save(model, name + '.model')\n",
        "    best_loss = train_loss_avgs[-1]\n",
        "\n",
        "  else:\n",
        "    if train_loss_avgs[-1] < best_loss:\n",
        "      print('Model Saved!')\n",
        "      torch.save(model, name + '.model')\n",
        "      best_loss = train_loss_avgs[-1]\n",
        "\n",
        "      generate_samples(name, \"_epoch_\" + str(epoch+1), num_samples)\n"
      ],
      "execution_count": 15,
      "outputs": [
        {
          "output_type": "stream",
          "text": [
            "Training...\n",
            "Epoch [1 / 100] average training loss: 176.727451\n",
            "Model Saved!\n"
          ],
          "name": "stdout"
        },
        {
          "output_type": "error",
          "ename": "TypeError",
          "evalue": "ignored",
          "traceback": [
            "\u001b[1;31m---------------------------------------------------------------------------\u001b[0m",
            "\u001b[1;31mTypeError\u001b[0m                                 Traceback (most recent call last)",
            "\u001b[1;32m<ipython-input-15-f5344b471bea>\u001b[0m in \u001b[0;36m<module>\u001b[1;34m\u001b[0m\n\u001b[0;32m     30\u001b[0m \u001b[1;33m\u001b[0m\u001b[0m\n\u001b[0;32m     31\u001b[0m     \u001b[1;32mif\u001b[0m \u001b[0mbatch_idx\u001b[0m \u001b[1;33m==\u001b[0m \u001b[0mrandom\u001b[0m\u001b[1;33m.\u001b[0m\u001b[0mrandint\u001b[0m\u001b[1;33m(\u001b[0m\u001b[1;36m0\u001b[0m\u001b[1;33m,\u001b[0m \u001b[0mlen\u001b[0m\u001b[1;33m(\u001b[0m\u001b[0mtrain_dataloader\u001b[0m\u001b[1;33m)\u001b[0m\u001b[1;33m)\u001b[0m\u001b[1;33m:\u001b[0m\u001b[1;33m\u001b[0m\u001b[1;33m\u001b[0m\u001b[0m\n\u001b[1;32m---> 32\u001b[1;33m       \u001b[0mplot_data\u001b[0m\u001b[1;33m(\u001b[0m\u001b[0mname\u001b[0m \u001b[1;33m+\u001b[0m \u001b[1;34m\"_Reconstructed_images_epoch_\"\u001b[0m \u001b[1;33m+\u001b[0m \u001b[0mstr\u001b[0m\u001b[1;33m(\u001b[0m\u001b[0mepoch\u001b[0m\u001b[1;33m+\u001b[0m\u001b[1;36m1\u001b[0m\u001b[1;33m)\u001b[0m \u001b[1;33m+\u001b[0m \u001b[1;34m\"_batch_\"\u001b[0m \u001b[1;33m+\u001b[0m \u001b[0mstr\u001b[0m\u001b[1;33m(\u001b[0m\u001b[0mbatch_idx\u001b[0m\u001b[1;33m)\u001b[0m\u001b[1;33m,\u001b[0m \u001b[0mnum_samples\u001b[0m\u001b[1;33m,\u001b[0m \u001b[0mx_reconstructed\u001b[0m\u001b[1;33m,\u001b[0m \u001b[0mlabels\u001b[0m\u001b[1;33m,\u001b[0m \u001b[0mis_binary\u001b[0m\u001b[1;33m,\u001b[0m \u001b[0mreconstructed\u001b[0m\u001b[1;33m=\u001b[0m\u001b[1;32mTrue\u001b[0m\u001b[1;33m)\u001b[0m\u001b[1;33m\u001b[0m\u001b[1;33m\u001b[0m\u001b[0m\n\u001b[0m\u001b[0;32m     33\u001b[0m \u001b[1;33m\u001b[0m\u001b[0m\n\u001b[0;32m     34\u001b[0m   \u001b[0mtrain_loss_avgs\u001b[0m\u001b[1;33m[\u001b[0m\u001b[1;33m-\u001b[0m\u001b[1;36m1\u001b[0m\u001b[1;33m]\u001b[0m \u001b[1;33m/=\u001b[0m \u001b[0mnum_batches\u001b[0m\u001b[1;33m\u001b[0m\u001b[1;33m\u001b[0m\u001b[0m\n",
            "\u001b[1;32m<ipython-input-4-e7e6fa56823b>\u001b[0m in \u001b[0;36mplot_data\u001b[1;34m(file_name, num_images, images, labels, is_binary, reconstructed)\u001b[0m\n\u001b[0;32m     23\u001b[0m       \u001b[0mplt\u001b[0m\u001b[1;33m.\u001b[0m\u001b[0mimshow\u001b[0m\u001b[1;33m(\u001b[0m\u001b[0mimages\u001b[0m\u001b[1;33m[\u001b[0m\u001b[0mi\u001b[0m\u001b[1;33m]\u001b[0m\u001b[1;33m.\u001b[0m\u001b[0mreshape\u001b[0m\u001b[1;33m(\u001b[0m\u001b[1;36m28\u001b[0m\u001b[1;33m,\u001b[0m\u001b[1;36m28\u001b[0m\u001b[1;33m)\u001b[0m\u001b[1;33m,\u001b[0m \u001b[0mcmap\u001b[0m\u001b[1;33m=\u001b[0m\u001b[0mcolor\u001b[0m\u001b[1;33m)\u001b[0m\u001b[1;33m\u001b[0m\u001b[1;33m\u001b[0m\u001b[0m\n\u001b[0;32m     24\u001b[0m       \u001b[1;32mif\u001b[0m \u001b[0mlabels\u001b[0m \u001b[1;33m!=\u001b[0m \u001b[1;32mNone\u001b[0m\u001b[1;33m:\u001b[0m\u001b[1;33m\u001b[0m\u001b[1;33m\u001b[0m\u001b[0m\n\u001b[1;32m---> 25\u001b[1;33m         \u001b[0mplt\u001b[0m\u001b[1;33m.\u001b[0m\u001b[0mxlabel\u001b[0m\u001b[1;33m(\u001b[0m\u001b[0mclass_names\u001b[0m\u001b[1;33m[\u001b[0m\u001b[0mlabels\u001b[0m\u001b[1;33m[\u001b[0m\u001b[0mi\u001b[0m\u001b[1;33m]\u001b[0m\u001b[1;33m]\u001b[0m\u001b[1;33m)\u001b[0m\u001b[1;33m\u001b[0m\u001b[1;33m\u001b[0m\u001b[0m\n\u001b[0m\u001b[0;32m     26\u001b[0m   \u001b[0mplt\u001b[0m\u001b[1;33m.\u001b[0m\u001b[0msavefig\u001b[0m\u001b[1;33m(\u001b[0m\u001b[0mfile_name\u001b[0m\u001b[1;33m)\u001b[0m\u001b[1;33m\u001b[0m\u001b[1;33m\u001b[0m\u001b[0m\n\u001b[0;32m     27\u001b[0m   \u001b[0mplt\u001b[0m\u001b[1;33m.\u001b[0m\u001b[0mclose\u001b[0m\u001b[1;33m(\u001b[0m\u001b[1;33m)\u001b[0m\u001b[1;33m\u001b[0m\u001b[1;33m\u001b[0m\u001b[0m\n",
            "\u001b[1;31mTypeError\u001b[0m: only integer tensors of a single element can be converted to an index"
          ]
        },
        {
          "output_type": "display_data",
          "data": {
            "text/plain": [
              "<Figure size 576x576 with 1 Axes>"
            ],
            "image/png": "[encoded data removed]"
          },
          "metadata": {
            "tags": []
          }
        }
      ]
    },
    {
      "cell_type": "code",
      "metadata": {
        "id": "TMke8dJcYxyX"
      },
      "source": [
        "model_best = torch.load(name + '.model')\n",
        "\n",
        "# set to evaluation mode\n",
        "model.eval()\n",
        "\n",
        "test_loss, num_batches = 0, 0\n",
        "\n",
        "for batch_idx, (data, labels) in enumerate(test_dataloader, 1):\n",
        "    \n",
        "  data = data.to(device)  \n",
        "\n",
        "  x_reconstructed, loss = model.forward(data, reduction='sum')\n",
        "\n",
        "  if batch_idx == 2:\n",
        "    plot_data(name + \"_Reconstructed_images_test_data_batch\" + str(batch_idx+1), 16, x_reconstructed, labels, reconstructed=True)\n",
        "    generate_samples(name, \"_test_data_batch_\" + str(batch_idx), num_samples)\n",
        "\n",
        "  test_loss += loss.item()\n",
        "  num_batches = num_batches + data.shape[0]\n",
        "    \n",
        "test_loss /= num_batches\n",
        "print('Average test loss: %f' % (test_loss))"
      ],
      "execution_count": null,
      "outputs": []
    },
    {
      "cell_type": "code",
      "metadata": {
        "id": "8aB7IUX83KaW"
      },
      "source": [
        "batch_num = 522\n",
        "\n",
        "for batch_idx, (data, labels) in enumerate(train_dataloader, 1):\n",
        "  \n",
        "  data = data.to(device)\n",
        "\n",
        "  if batch_idx == batch_num:\n",
        "      plot_data(name + \"_Real_images_train_data\" + \"_batch_\" + str(batch_idx), 16, data, labels)"
      ],
      "execution_count": null,
      "outputs": []
    },
    {
      "cell_type": "code",
      "metadata": {
        "id": "2ZXHRcxoDvfm"
      },
      "source": [
        "#imgs, labels = next(iter(test_dataloader))\n",
        "plt.figure(figsize=(10, 10))\n",
        "\n",
        "for imgs, labels in test_dataloader:\n",
        "  img = imgs.to(device)\n",
        "  x, x_encoded_mean, x_encoded_log_var = model.encoder.encode(imgs)\n",
        "\n",
        "\n",
        "  x_encoded_mean = x_encoded_mean.cpu().detach().numpy()\n",
        "\n",
        "  plt.scatter(x_encoded_mean[:, 0], x_encoded_mean[:, 1], c=labels)\n",
        "\n",
        "plt.colorbar()\n",
        "plt.savefig(\"encoding.png\")"
      ],
      "execution_count": null,
      "outputs": []
    },
    {
      "cell_type": "code",
      "metadata": {
        "id": "IVAd3diaaCJ8"
      },
      "source": [
        "# REAL SAMPLES\n",
        "num_samples = 16\n",
        "\n",
        "test_data, test_labels = next(iter(test_dataloader))\n",
        "\n",
        "plot_data(name + '_Real_images_test_data_', num_samples, test_data, test_labels)"
      ],
      "execution_count": null,
      "outputs": []
    },
    {
      "cell_type": "code",
      "metadata": {
        "id": "bnyPgvAJUoKa"
      },
      "source": [
        "# plt.ion()\n",
        "\n",
        "fig = plt.figure()\n",
        "plt.plot(train_loss_avgs)\n",
        "plt.xlabel('Epochs')\n",
        "plt.ylabel('Negative Log Likelihood Loss')\n",
        "plt.show()\n",
        "\n",
        "print(train_loss_avgs)"
      ],
      "execution_count": null,
      "outputs": []
    },
    {
      "cell_type": "code",
      "metadata": {
        "id": "6ZDZKlxQUZ4X"
      },
      "source": [
        "f = open(name + '_Model_Description.txt', \"w\")\n",
        "\n",
        "f.write(\"VAE \\n---------------------------------\\n\"\n",
        "        \"Dataset:\\n\" + str(train_dataloader.dataset)+ \"\\n\"+\n",
        "        \"- Batch Size: \"+ str(batch_size) + \"\\n\"+\n",
        "        \"- Likelihood: \"+ likelihood_type + \"\\n\"+\n",
        "        \"- Prior Distribution: \"+ prior_distribution + \"\\n\"\n",
        "        \"- Number of Values: \"+ str(num_vals) + \"\\n\"+\n",
        "        \"- Number of Latents: \" + str(L) + \"\\n\\n\"+\n",
        "        \"Model:\\n\" + str(model) + \"\\n\\n\"+\n",
        "        \"Optimizer:\\n\"+ str(optimizer) + \"\\n\"+\n",
        "        \"- Number of Epochs: \"+ str(num_epochs) + \"\\n\\n\"+\n",
        "        \"Results:\\n-------------------------------\\n\"\n",
        "        \"- Average Training Loss: \" + str(train_loss_avgs[-1]) + \"\\n\"+\n",
        "        \"- Average Test Loss: \" + str(test_loss))\n",
        "f.close()"
      ],
      "execution_count": null,
      "outputs": []
    }
  ]
}