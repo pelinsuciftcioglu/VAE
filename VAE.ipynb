{
  "nbformat": 4,
  "nbformat_minor": 0,
  "metadata": {
    "colab": {
      "name": "VAE.ipynb",
      "provenance": [],
      "authorship_tag": "ABX9TyNWW6H9k+wd9REPa0zbWBUk",
      "include_colab_link": true
    },
    "kernelspec": {
      "name": "python3",
      "display_name": "Python 3"
    },
    "language_info": {
      "name": "python"
    }
  },
  "cells": [
    {
      "cell_type": "markdown",
      "metadata": {
        "id": "view-in-github",
        "colab_type": "text"
      },
      "source": [
        "<a href=\"https://colab.research.google.com/github/pelinsuciftcioglu/VAE/blob/main/VAE.ipynb\" target=\"_parent\"><img src=\"https://colab.research.google.com/assets/colab-badge.svg\" alt=\"Open In Colab\"/></a>"
      ]
    },
    {
      "cell_type": "markdown",
      "metadata": {
        "id": "IGnGq9I4RJZi"
      },
      "source": [
        "# **Variational Auto-Encoder (VAE)**"
      ]
    },
    {
      "cell_type": "code",
      "metadata": {
        "id": "kr7xJ0hJwUZ5"
      },
      "source": [
        "import torch\n",
        "import torch.nn as nn\n",
        "import torch.optim\n",
        "import torch.utils\n",
        "import torch.distributions\n",
        "import torchvision\n",
        "import numpy as np\n",
        "import matplotlib.pyplot as plt"
      ],
      "execution_count": null,
      "outputs": []
    },
    {
      "cell_type": "code",
      "metadata": {
        "id": "OMVbn06LxAM4"
      },
      "source": [
        "# D: Input Dimension (d1*d2)\n",
        "# M: Latent Space Dimensions\n",
        "# H: Hidden Dimensions\n",
        "\n",
        "class Encoder(nn.Module):\n",
        "    def __init__(self, d1, d2, H, M):\n",
        "        super(Encoder, self).__init__()\n",
        "        self.fc1 = nn.Linear(d1*d2, H)\n",
        "        self.fc2 = nn.Linear(H, 2*M)\n",
        "\n",
        "        self.leakyReLU = nn.LeakyReLU(0.2)\n",
        "\n",
        "    def forward(self, x):\n",
        "        h = torch.flatten(x, start_dim=1)\n",
        "        h = self.leakyRelu(self.fc1(h))\n",
        "        h = self.linear2(h)\n",
        "        mu, log_var =  torch.chunk(x, 2, dim=1)\n",
        "        return mu, log_var\n",
        "\n",
        "   \n",
        "\n",
        "    def sample(self, x=None, mu_e=None, log_var_e=None):\n",
        "      # encode(x) output??\n",
        "      mu, log_var = forward(x)\n",
        "      z = self.reparameterization(mu, log_var)\n",
        "        return z"
      ],
      "execution_count": null,
      "outputs": []
    },
    {
      "cell_type": "code",
      "metadata": {
        "id": "cT7wpoop1PJJ"
      },
      "source": [
        "class Decoder(nn.Module):\n",
        "    def __init__(self, d1, d2, H, M):\n",
        "        super(Decoder, self).__init__()\n",
        "        self.fc1 = nn.Linear(M, H)\n",
        "        self.fc2 = nn.Linear(H, d1*d2)\n",
        "\n",
        "        self.leakyRelu = nn.LeakyReLU(0.2)\n",
        "\n",
        "\n",
        "    def forward(self, z):\n",
        "        h = F.relu(self.fc1(z))\n",
        "        h = self.leakyRelu(self.fc2(h))\n",
        "\n",
        "        return z.reshape((-1, 1, d1, d2))"
      ],
      "execution_count": null,
      "outputs": []
    },
    {
      "cell_type": "code",
      "metadata": {
        "id": "tzfVgQYtP-Lg"
      },
      "source": [
        "class VAE(nn.Module):\n",
        "  def __init__(self, d1, d2, H, M): # Initializations should be added!!!!\n",
        "        super(VAE, self).__init__()\n",
        "        self.encoder = Encoder(d1*d2, M)\n",
        "        self.decoder = Decoder(d1, d2, M)\n",
        "\n",
        "   def reparameterization():\n",
        "    # Reparameterize z as z = mu + std * epsilon for Gaussian\n",
        "    # epsilon ~ eps_dist()\n",
        "  \n",
        "  def forward(self, x):\n",
        "        mu, log_var = self.Encoder(x)\n",
        "\n",
        "        var = torch.exp(0.5 * log_var)\n",
        "        z = self.reparameterization(mu, var)\n",
        "\n",
        "        y = self.Decoder(z)\n",
        "        \n",
        "        return y, mu, log_var\n",
        "  \n",
        "  def loss(x, y, mu, log_var):\n",
        "    reconstruction_error = #  nn.functional.binary_cross_entropy(x_hat, x, reduction='sum')\n",
        "    KL = # - 0.5 * torch.sum(1+ log_var - mean.pow(2) - log_var.exp())\n",
        "\n",
        "    return reproduction_loss + KL\n"
      ],
      "execution_count": null,
      "outputs": []
    },
    {
      "cell_type": "code",
      "metadata": {
        "id": "cKPrUR6ypP52"
      },
      "source": [
        "encoder = Encoder(d1 = input_dim_height, d2 = input_dim_width, H = hidden_dim, M = latent_dim)\n",
        "decoder = Decoder(d1 = input_dim_height, d2 = input_dim_width, H = hidden_dim, M = latent_dim)\n",
        "\n",
        "model = Model(Encoder=encoder, Decoder=decoder)"
      ],
      "execution_count": null,
      "outputs": []
    }
  ]
}