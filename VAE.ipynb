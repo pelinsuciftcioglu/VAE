{
  "nbformat": 4,
  "nbformat_minor": 0,
  "metadata": {
    "colab": {
      "name": "VAE.ipynb",
      "provenance": [],
      "mount_file_id": "https://github.com/pelinsuciftcioglu/VAE/blob/main/VAE.ipynb",
      "authorship_tag": "ABX9TyPAIxgJYOr7nANI6zf0aJ7g",
      "include_colab_link": true
    },
    "kernelspec": {
      "name": "python3",
      "display_name": "Python 3"
    },
    "language_info": {
      "name": "python"
    },
    "accelerator": "GPU",
    "widgets": {
      "application/vnd.jupyter.widget-state+json": {
        "ba677da247af4dfaafe95eae2a02bbf1": {
          "model_module": "@jupyter-widgets/controls",
          "model_name": "HBoxModel",
          "state": {
            "_view_name": "HBoxView",
            "_dom_classes": [],
            "_model_name": "HBoxModel",
            "_view_module": "@jupyter-widgets/controls",
            "_model_module_version": "1.5.0",
            "_view_count": null,
            "_view_module_version": "1.5.0",
            "box_style": "",
            "layout": "IPY_MODEL_f9f3b08f601a494189adbc79d09a9750",
            "_model_module": "@jupyter-widgets/controls",
            "children": [
              "IPY_MODEL_9efe03103de840f086ed5019ff10d912",
              "IPY_MODEL_9f01800af4ef4dcda1e9773350f3d19d"
            ]
          }
        },
        "f9f3b08f601a494189adbc79d09a9750": {
          "model_module": "@jupyter-widgets/base",
          "model_name": "LayoutModel",
          "state": {
            "_view_name": "LayoutView",
            "grid_template_rows": null,
            "right": null,
            "justify_content": null,
            "_view_module": "@jupyter-widgets/base",
            "overflow": null,
            "_model_module_version": "1.2.0",
            "_view_count": null,
            "flex_flow": null,
            "width": null,
            "min_width": null,
            "border": null,
            "align_items": null,
            "bottom": null,
            "_model_module": "@jupyter-widgets/base",
            "top": null,
            "grid_column": null,
            "overflow_y": null,
            "overflow_x": null,
            "grid_auto_flow": null,
            "grid_area": null,
            "grid_template_columns": null,
            "flex": null,
            "_model_name": "LayoutModel",
            "justify_items": null,
            "grid_row": null,
            "max_height": null,
            "align_content": null,
            "visibility": null,
            "align_self": null,
            "height": null,
            "min_height": null,
            "padding": null,
            "grid_auto_rows": null,
            "grid_gap": null,
            "max_width": null,
            "order": null,
            "_view_module_version": "1.2.0",
            "grid_template_areas": null,
            "object_position": null,
            "object_fit": null,
            "grid_auto_columns": null,
            "margin": null,
            "display": null,
            "left": null
          }
        },
        "9efe03103de840f086ed5019ff10d912": {
          "model_module": "@jupyter-widgets/controls",
          "model_name": "FloatProgressModel",
          "state": {
            "_view_name": "ProgressView",
            "style": "IPY_MODEL_f3f59fa427aa4dc0bef14f9a6a5f3b8a",
            "_dom_classes": [],
            "description": "",
            "_model_name": "FloatProgressModel",
            "bar_style": "success",
            "max": 9912422,
            "_view_module": "@jupyter-widgets/controls",
            "_model_module_version": "1.5.0",
            "value": 9912422,
            "_view_count": null,
            "_view_module_version": "1.5.0",
            "orientation": "horizontal",
            "min": 0,
            "description_tooltip": null,
            "_model_module": "@jupyter-widgets/controls",
            "layout": "IPY_MODEL_5a94e457054448daa4c98baa2673e789"
          }
        },
        "9f01800af4ef4dcda1e9773350f3d19d": {
          "model_module": "@jupyter-widgets/controls",
          "model_name": "HTMLModel",
          "state": {
            "_view_name": "HTMLView",
            "style": "IPY_MODEL_5e520e575f31407f84622ac08a89b08e",
            "_dom_classes": [],
            "description": "",
            "_model_name": "HTMLModel",
            "placeholder": "​",
            "_view_module": "@jupyter-widgets/controls",
            "_model_module_version": "1.5.0",
            "value": " 9913344/? [00:00&lt;00:00, 14378640.83it/s]",
            "_view_count": null,
            "_view_module_version": "1.5.0",
            "description_tooltip": null,
            "_model_module": "@jupyter-widgets/controls",
            "layout": "IPY_MODEL_db056dca45084639830d3f3f7ca3e51e"
          }
        },
        "f3f59fa427aa4dc0bef14f9a6a5f3b8a": {
          "model_module": "@jupyter-widgets/controls",
          "model_name": "ProgressStyleModel",
          "state": {
            "_view_name": "StyleView",
            "_model_name": "ProgressStyleModel",
            "description_width": "initial",
            "_view_module": "@jupyter-widgets/base",
            "_model_module_version": "1.5.0",
            "_view_count": null,
            "_view_module_version": "1.2.0",
            "bar_color": null,
            "_model_module": "@jupyter-widgets/controls"
          }
        },
        "5a94e457054448daa4c98baa2673e789": {
          "model_module": "@jupyter-widgets/base",
          "model_name": "LayoutModel",
          "state": {
            "_view_name": "LayoutView",
            "grid_template_rows": null,
            "right": null,
            "justify_content": null,
            "_view_module": "@jupyter-widgets/base",
            "overflow": null,
            "_model_module_version": "1.2.0",
            "_view_count": null,
            "flex_flow": null,
            "width": null,
            "min_width": null,
            "border": null,
            "align_items": null,
            "bottom": null,
            "_model_module": "@jupyter-widgets/base",
            "top": null,
            "grid_column": null,
            "overflow_y": null,
            "overflow_x": null,
            "grid_auto_flow": null,
            "grid_area": null,
            "grid_template_columns": null,
            "flex": null,
            "_model_name": "LayoutModel",
            "justify_items": null,
            "grid_row": null,
            "max_height": null,
            "align_content": null,
            "visibility": null,
            "align_self": null,
            "height": null,
            "min_height": null,
            "padding": null,
            "grid_auto_rows": null,
            "grid_gap": null,
            "max_width": null,
            "order": null,
            "_view_module_version": "1.2.0",
            "grid_template_areas": null,
            "object_position": null,
            "object_fit": null,
            "grid_auto_columns": null,
            "margin": null,
            "display": null,
            "left": null
          }
        },
        "5e520e575f31407f84622ac08a89b08e": {
          "model_module": "@jupyter-widgets/controls",
          "model_name": "DescriptionStyleModel",
          "state": {
            "_view_name": "StyleView",
            "_model_name": "DescriptionStyleModel",
            "description_width": "",
            "_view_module": "@jupyter-widgets/base",
            "_model_module_version": "1.5.0",
            "_view_count": null,
            "_view_module_version": "1.2.0",
            "_model_module": "@jupyter-widgets/controls"
          }
        },
        "db056dca45084639830d3f3f7ca3e51e": {
          "model_module": "@jupyter-widgets/base",
          "model_name": "LayoutModel",
          "state": {
            "_view_name": "LayoutView",
            "grid_template_rows": null,
            "right": null,
            "justify_content": null,
            "_view_module": "@jupyter-widgets/base",
            "overflow": null,
            "_model_module_version": "1.2.0",
            "_view_count": null,
            "flex_flow": null,
            "width": null,
            "min_width": null,
            "border": null,
            "align_items": null,
            "bottom": null,
            "_model_module": "@jupyter-widgets/base",
            "top": null,
            "grid_column": null,
            "overflow_y": null,
            "overflow_x": null,
            "grid_auto_flow": null,
            "grid_area": null,
            "grid_template_columns": null,
            "flex": null,
            "_model_name": "LayoutModel",
            "justify_items": null,
            "grid_row": null,
            "max_height": null,
            "align_content": null,
            "visibility": null,
            "align_self": null,
            "height": null,
            "min_height": null,
            "padding": null,
            "grid_auto_rows": null,
            "grid_gap": null,
            "max_width": null,
            "order": null,
            "_view_module_version": "1.2.0",
            "grid_template_areas": null,
            "object_position": null,
            "object_fit": null,
            "grid_auto_columns": null,
            "margin": null,
            "display": null,
            "left": null
          }
        },
        "ff3c165e75ba4be99ce5b53c226e95d4": {
          "model_module": "@jupyter-widgets/controls",
          "model_name": "HBoxModel",
          "state": {
            "_view_name": "HBoxView",
            "_dom_classes": [],
            "_model_name": "HBoxModel",
            "_view_module": "@jupyter-widgets/controls",
            "_model_module_version": "1.5.0",
            "_view_count": null,
            "_view_module_version": "1.5.0",
            "box_style": "",
            "layout": "IPY_MODEL_f64f91aa5ed14ccfa3284c91be109d38",
            "_model_module": "@jupyter-widgets/controls",
            "children": [
              "IPY_MODEL_258e7f3a87134a32a11def8413465f48",
              "IPY_MODEL_9cdc52ee53784da28c10216c6ce0d8c3"
            ]
          }
        },
        "f64f91aa5ed14ccfa3284c91be109d38": {
          "model_module": "@jupyter-widgets/base",
          "model_name": "LayoutModel",
          "state": {
            "_view_name": "LayoutView",
            "grid_template_rows": null,
            "right": null,
            "justify_content": null,
            "_view_module": "@jupyter-widgets/base",
            "overflow": null,
            "_model_module_version": "1.2.0",
            "_view_count": null,
            "flex_flow": null,
            "width": null,
            "min_width": null,
            "border": null,
            "align_items": null,
            "bottom": null,
            "_model_module": "@jupyter-widgets/base",
            "top": null,
            "grid_column": null,
            "overflow_y": null,
            "overflow_x": null,
            "grid_auto_flow": null,
            "grid_area": null,
            "grid_template_columns": null,
            "flex": null,
            "_model_name": "LayoutModel",
            "justify_items": null,
            "grid_row": null,
            "max_height": null,
            "align_content": null,
            "visibility": null,
            "align_self": null,
            "height": null,
            "min_height": null,
            "padding": null,
            "grid_auto_rows": null,
            "grid_gap": null,
            "max_width": null,
            "order": null,
            "_view_module_version": "1.2.0",
            "grid_template_areas": null,
            "object_position": null,
            "object_fit": null,
            "grid_auto_columns": null,
            "margin": null,
            "display": null,
            "left": null
          }
        },
        "258e7f3a87134a32a11def8413465f48": {
          "model_module": "@jupyter-widgets/controls",
          "model_name": "FloatProgressModel",
          "state": {
            "_view_name": "ProgressView",
            "style": "IPY_MODEL_1119a6280150443e9f8e01ba9248ceb6",
            "_dom_classes": [],
            "description": "",
            "_model_name": "FloatProgressModel",
            "bar_style": "success",
            "max": 28881,
            "_view_module": "@jupyter-widgets/controls",
            "_model_module_version": "1.5.0",
            "value": 28881,
            "_view_count": null,
            "_view_module_version": "1.5.0",
            "orientation": "horizontal",
            "min": 0,
            "description_tooltip": null,
            "_model_module": "@jupyter-widgets/controls",
            "layout": "IPY_MODEL_0165cdbb7ff349c4957df32cc77c0650"
          }
        },
        "9cdc52ee53784da28c10216c6ce0d8c3": {
          "model_module": "@jupyter-widgets/controls",
          "model_name": "HTMLModel",
          "state": {
            "_view_name": "HTMLView",
            "style": "IPY_MODEL_204d11fd81d146ecaebe57381a1ecfc9",
            "_dom_classes": [],
            "description": "",
            "_model_name": "HTMLModel",
            "placeholder": "​",
            "_view_module": "@jupyter-widgets/controls",
            "_model_module_version": "1.5.0",
            "value": " 29696/? [00:01&lt;00:00, 16703.75it/s]",
            "_view_count": null,
            "_view_module_version": "1.5.0",
            "description_tooltip": null,
            "_model_module": "@jupyter-widgets/controls",
            "layout": "IPY_MODEL_ddbd241e3eba4b36ab5914dfc59b33c9"
          }
        },
        "1119a6280150443e9f8e01ba9248ceb6": {
          "model_module": "@jupyter-widgets/controls",
          "model_name": "ProgressStyleModel",
          "state": {
            "_view_name": "StyleView",
            "_model_name": "ProgressStyleModel",
            "description_width": "initial",
            "_view_module": "@jupyter-widgets/base",
            "_model_module_version": "1.5.0",
            "_view_count": null,
            "_view_module_version": "1.2.0",
            "bar_color": null,
            "_model_module": "@jupyter-widgets/controls"
          }
        },
        "0165cdbb7ff349c4957df32cc77c0650": {
          "model_module": "@jupyter-widgets/base",
          "model_name": "LayoutModel",
          "state": {
            "_view_name": "LayoutView",
            "grid_template_rows": null,
            "right": null,
            "justify_content": null,
            "_view_module": "@jupyter-widgets/base",
            "overflow": null,
            "_model_module_version": "1.2.0",
            "_view_count": null,
            "flex_flow": null,
            "width": null,
            "min_width": null,
            "border": null,
            "align_items": null,
            "bottom": null,
            "_model_module": "@jupyter-widgets/base",
            "top": null,
            "grid_column": null,
            "overflow_y": null,
            "overflow_x": null,
            "grid_auto_flow": null,
            "grid_area": null,
            "grid_template_columns": null,
            "flex": null,
            "_model_name": "LayoutModel",
            "justify_items": null,
            "grid_row": null,
            "max_height": null,
            "align_content": null,
            "visibility": null,
            "align_self": null,
            "height": null,
            "min_height": null,
            "padding": null,
            "grid_auto_rows": null,
            "grid_gap": null,
            "max_width": null,
            "order": null,
            "_view_module_version": "1.2.0",
            "grid_template_areas": null,
            "object_position": null,
            "object_fit": null,
            "grid_auto_columns": null,
            "margin": null,
            "display": null,
            "left": null
          }
        },
        "204d11fd81d146ecaebe57381a1ecfc9": {
          "model_module": "@jupyter-widgets/controls",
          "model_name": "DescriptionStyleModel",
          "state": {
            "_view_name": "StyleView",
            "_model_name": "DescriptionStyleModel",
            "description_width": "",
            "_view_module": "@jupyter-widgets/base",
            "_model_module_version": "1.5.0",
            "_view_count": null,
            "_view_module_version": "1.2.0",
            "_model_module": "@jupyter-widgets/controls"
          }
        },
        "ddbd241e3eba4b36ab5914dfc59b33c9": {
          "model_module": "@jupyter-widgets/base",
          "model_name": "LayoutModel",
          "state": {
            "_view_name": "LayoutView",
            "grid_template_rows": null,
            "right": null,
            "justify_content": null,
            "_view_module": "@jupyter-widgets/base",
            "overflow": null,
            "_model_module_version": "1.2.0",
            "_view_count": null,
            "flex_flow": null,
            "width": null,
            "min_width": null,
            "border": null,
            "align_items": null,
            "bottom": null,
            "_model_module": "@jupyter-widgets/base",
            "top": null,
            "grid_column": null,
            "overflow_y": null,
            "overflow_x": null,
            "grid_auto_flow": null,
            "grid_area": null,
            "grid_template_columns": null,
            "flex": null,
            "_model_name": "LayoutModel",
            "justify_items": null,
            "grid_row": null,
            "max_height": null,
            "align_content": null,
            "visibility": null,
            "align_self": null,
            "height": null,
            "min_height": null,
            "padding": null,
            "grid_auto_rows": null,
            "grid_gap": null,
            "max_width": null,
            "order": null,
            "_view_module_version": "1.2.0",
            "grid_template_areas": null,
            "object_position": null,
            "object_fit": null,
            "grid_auto_columns": null,
            "margin": null,
            "display": null,
            "left": null
          }
        },
        "4ff24c5ad5ed470a9ac3c48b9f8dafcc": {
          "model_module": "@jupyter-widgets/controls",
          "model_name": "HBoxModel",
          "state": {
            "_view_name": "HBoxView",
            "_dom_classes": [],
            "_model_name": "HBoxModel",
            "_view_module": "@jupyter-widgets/controls",
            "_model_module_version": "1.5.0",
            "_view_count": null,
            "_view_module_version": "1.5.0",
            "box_style": "",
            "layout": "IPY_MODEL_76b7161f93264011a1f905a8346754cb",
            "_model_module": "@jupyter-widgets/controls",
            "children": [
              "IPY_MODEL_df065fc2b77f420dad395d17a7eaed1f",
              "IPY_MODEL_42e1c8053d9d48d79fbbc90ebea9e027"
            ]
          }
        },
        "76b7161f93264011a1f905a8346754cb": {
          "model_module": "@jupyter-widgets/base",
          "model_name": "LayoutModel",
          "state": {
            "_view_name": "LayoutView",
            "grid_template_rows": null,
            "right": null,
            "justify_content": null,
            "_view_module": "@jupyter-widgets/base",
            "overflow": null,
            "_model_module_version": "1.2.0",
            "_view_count": null,
            "flex_flow": null,
            "width": null,
            "min_width": null,
            "border": null,
            "align_items": null,
            "bottom": null,
            "_model_module": "@jupyter-widgets/base",
            "top": null,
            "grid_column": null,
            "overflow_y": null,
            "overflow_x": null,
            "grid_auto_flow": null,
            "grid_area": null,
            "grid_template_columns": null,
            "flex": null,
            "_model_name": "LayoutModel",
            "justify_items": null,
            "grid_row": null,
            "max_height": null,
            "align_content": null,
            "visibility": null,
            "align_self": null,
            "height": null,
            "min_height": null,
            "padding": null,
            "grid_auto_rows": null,
            "grid_gap": null,
            "max_width": null,
            "order": null,
            "_view_module_version": "1.2.0",
            "grid_template_areas": null,
            "object_position": null,
            "object_fit": null,
            "grid_auto_columns": null,
            "margin": null,
            "display": null,
            "left": null
          }
        },
        "df065fc2b77f420dad395d17a7eaed1f": {
          "model_module": "@jupyter-widgets/controls",
          "model_name": "FloatProgressModel",
          "state": {
            "_view_name": "ProgressView",
            "style": "IPY_MODEL_de7f48cf574a448eb14e662aa7b50f39",
            "_dom_classes": [],
            "description": "",
            "_model_name": "FloatProgressModel",
            "bar_style": "success",
            "max": 1648877,
            "_view_module": "@jupyter-widgets/controls",
            "_model_module_version": "1.5.0",
            "value": 1648877,
            "_view_count": null,
            "_view_module_version": "1.5.0",
            "orientation": "horizontal",
            "min": 0,
            "description_tooltip": null,
            "_model_module": "@jupyter-widgets/controls",
            "layout": "IPY_MODEL_14ee983770b8430c892d1c2fef1599a1"
          }
        },
        "42e1c8053d9d48d79fbbc90ebea9e027": {
          "model_module": "@jupyter-widgets/controls",
          "model_name": "HTMLModel",
          "state": {
            "_view_name": "HTMLView",
            "style": "IPY_MODEL_f82fe47f82c54bf4aec46a5259c384e4",
            "_dom_classes": [],
            "description": "",
            "_model_name": "HTMLModel",
            "placeholder": "​",
            "_view_module": "@jupyter-widgets/controls",
            "_model_module_version": "1.5.0",
            "value": " 1649664/? [00:00&lt;00:00, 1957584.58it/s]",
            "_view_count": null,
            "_view_module_version": "1.5.0",
            "description_tooltip": null,
            "_model_module": "@jupyter-widgets/controls",
            "layout": "IPY_MODEL_ab9335fa005f43518777b68720e2822d"
          }
        },
        "de7f48cf574a448eb14e662aa7b50f39": {
          "model_module": "@jupyter-widgets/controls",
          "model_name": "ProgressStyleModel",
          "state": {
            "_view_name": "StyleView",
            "_model_name": "ProgressStyleModel",
            "description_width": "initial",
            "_view_module": "@jupyter-widgets/base",
            "_model_module_version": "1.5.0",
            "_view_count": null,
            "_view_module_version": "1.2.0",
            "bar_color": null,
            "_model_module": "@jupyter-widgets/controls"
          }
        },
        "14ee983770b8430c892d1c2fef1599a1": {
          "model_module": "@jupyter-widgets/base",
          "model_name": "LayoutModel",
          "state": {
            "_view_name": "LayoutView",
            "grid_template_rows": null,
            "right": null,
            "justify_content": null,
            "_view_module": "@jupyter-widgets/base",
            "overflow": null,
            "_model_module_version": "1.2.0",
            "_view_count": null,
            "flex_flow": null,
            "width": null,
            "min_width": null,
            "border": null,
            "align_items": null,
            "bottom": null,
            "_model_module": "@jupyter-widgets/base",
            "top": null,
            "grid_column": null,
            "overflow_y": null,
            "overflow_x": null,
            "grid_auto_flow": null,
            "grid_area": null,
            "grid_template_columns": null,
            "flex": null,
            "_model_name": "LayoutModel",
            "justify_items": null,
            "grid_row": null,
            "max_height": null,
            "align_content": null,
            "visibility": null,
            "align_self": null,
            "height": null,
            "min_height": null,
            "padding": null,
            "grid_auto_rows": null,
            "grid_gap": null,
            "max_width": null,
            "order": null,
            "_view_module_version": "1.2.0",
            "grid_template_areas": null,
            "object_position": null,
            "object_fit": null,
            "grid_auto_columns": null,
            "margin": null,
            "display": null,
            "left": null
          }
        },
        "f82fe47f82c54bf4aec46a5259c384e4": {
          "model_module": "@jupyter-widgets/controls",
          "model_name": "DescriptionStyleModel",
          "state": {
            "_view_name": "StyleView",
            "_model_name": "DescriptionStyleModel",
            "description_width": "",
            "_view_module": "@jupyter-widgets/base",
            "_model_module_version": "1.5.0",
            "_view_count": null,
            "_view_module_version": "1.2.0",
            "_model_module": "@jupyter-widgets/controls"
          }
        },
        "ab9335fa005f43518777b68720e2822d": {
          "model_module": "@jupyter-widgets/base",
          "model_name": "LayoutModel",
          "state": {
            "_view_name": "LayoutView",
            "grid_template_rows": null,
            "right": null,
            "justify_content": null,
            "_view_module": "@jupyter-widgets/base",
            "overflow": null,
            "_model_module_version": "1.2.0",
            "_view_count": null,
            "flex_flow": null,
            "width": null,
            "min_width": null,
            "border": null,
            "align_items": null,
            "bottom": null,
            "_model_module": "@jupyter-widgets/base",
            "top": null,
            "grid_column": null,
            "overflow_y": null,
            "overflow_x": null,
            "grid_auto_flow": null,
            "grid_area": null,
            "grid_template_columns": null,
            "flex": null,
            "_model_name": "LayoutModel",
            "justify_items": null,
            "grid_row": null,
            "max_height": null,
            "align_content": null,
            "visibility": null,
            "align_self": null,
            "height": null,
            "min_height": null,
            "padding": null,
            "grid_auto_rows": null,
            "grid_gap": null,
            "max_width": null,
            "order": null,
            "_view_module_version": "1.2.0",
            "grid_template_areas": null,
            "object_position": null,
            "object_fit": null,
            "grid_auto_columns": null,
            "margin": null,
            "display": null,
            "left": null
          }
        },
        "15c68f9cabfd48578098fc98a09312be": {
          "model_module": "@jupyter-widgets/controls",
          "model_name": "HBoxModel",
          "state": {
            "_view_name": "HBoxView",
            "_dom_classes": [],
            "_model_name": "HBoxModel",
            "_view_module": "@jupyter-widgets/controls",
            "_model_module_version": "1.5.0",
            "_view_count": null,
            "_view_module_version": "1.5.0",
            "box_style": "",
            "layout": "IPY_MODEL_08ead63c81a742628f86d3ad4bbb5f93",
            "_model_module": "@jupyter-widgets/controls",
            "children": [
              "IPY_MODEL_9c94f7f8247545a49bb8fd311f13bd1a",
              "IPY_MODEL_94bb44ba99a644628b8268a21baee393"
            ]
          }
        },
        "08ead63c81a742628f86d3ad4bbb5f93": {
          "model_module": "@jupyter-widgets/base",
          "model_name": "LayoutModel",
          "state": {
            "_view_name": "LayoutView",
            "grid_template_rows": null,
            "right": null,
            "justify_content": null,
            "_view_module": "@jupyter-widgets/base",
            "overflow": null,
            "_model_module_version": "1.2.0",
            "_view_count": null,
            "flex_flow": null,
            "width": null,
            "min_width": null,
            "border": null,
            "align_items": null,
            "bottom": null,
            "_model_module": "@jupyter-widgets/base",
            "top": null,
            "grid_column": null,
            "overflow_y": null,
            "overflow_x": null,
            "grid_auto_flow": null,
            "grid_area": null,
            "grid_template_columns": null,
            "flex": null,
            "_model_name": "LayoutModel",
            "justify_items": null,
            "grid_row": null,
            "max_height": null,
            "align_content": null,
            "visibility": null,
            "align_self": null,
            "height": null,
            "min_height": null,
            "padding": null,
            "grid_auto_rows": null,
            "grid_gap": null,
            "max_width": null,
            "order": null,
            "_view_module_version": "1.2.0",
            "grid_template_areas": null,
            "object_position": null,
            "object_fit": null,
            "grid_auto_columns": null,
            "margin": null,
            "display": null,
            "left": null
          }
        },
        "9c94f7f8247545a49bb8fd311f13bd1a": {
          "model_module": "@jupyter-widgets/controls",
          "model_name": "FloatProgressModel",
          "state": {
            "_view_name": "ProgressView",
            "style": "IPY_MODEL_3c5945f689034d4ea08ca6f8a37d4dc7",
            "_dom_classes": [],
            "description": "",
            "_model_name": "FloatProgressModel",
            "bar_style": "success",
            "max": 4542,
            "_view_module": "@jupyter-widgets/controls",
            "_model_module_version": "1.5.0",
            "value": 4542,
            "_view_count": null,
            "_view_module_version": "1.5.0",
            "orientation": "horizontal",
            "min": 0,
            "description_tooltip": null,
            "_model_module": "@jupyter-widgets/controls",
            "layout": "IPY_MODEL_3062957e6a8343e59fbcc741fdc4d12d"
          }
        },
        "94bb44ba99a644628b8268a21baee393": {
          "model_module": "@jupyter-widgets/controls",
          "model_name": "HTMLModel",
          "state": {
            "_view_name": "HTMLView",
            "style": "IPY_MODEL_a9e9f95ae3484d1eaad7daab93a4b410",
            "_dom_classes": [],
            "description": "",
            "_model_name": "HTMLModel",
            "placeholder": "​",
            "_view_module": "@jupyter-widgets/controls",
            "_model_module_version": "1.5.0",
            "value": " 5120/? [00:00&lt;00:00, 127006.91it/s]",
            "_view_count": null,
            "_view_module_version": "1.5.0",
            "description_tooltip": null,
            "_model_module": "@jupyter-widgets/controls",
            "layout": "IPY_MODEL_98008f455cdf47a78603263a3884d3e9"
          }
        },
        "3c5945f689034d4ea08ca6f8a37d4dc7": {
          "model_module": "@jupyter-widgets/controls",
          "model_name": "ProgressStyleModel",
          "state": {
            "_view_name": "StyleView",
            "_model_name": "ProgressStyleModel",
            "description_width": "initial",
            "_view_module": "@jupyter-widgets/base",
            "_model_module_version": "1.5.0",
            "_view_count": null,
            "_view_module_version": "1.2.0",
            "bar_color": null,
            "_model_module": "@jupyter-widgets/controls"
          }
        },
        "3062957e6a8343e59fbcc741fdc4d12d": {
          "model_module": "@jupyter-widgets/base",
          "model_name": "LayoutModel",
          "state": {
            "_view_name": "LayoutView",
            "grid_template_rows": null,
            "right": null,
            "justify_content": null,
            "_view_module": "@jupyter-widgets/base",
            "overflow": null,
            "_model_module_version": "1.2.0",
            "_view_count": null,
            "flex_flow": null,
            "width": null,
            "min_width": null,
            "border": null,
            "align_items": null,
            "bottom": null,
            "_model_module": "@jupyter-widgets/base",
            "top": null,
            "grid_column": null,
            "overflow_y": null,
            "overflow_x": null,
            "grid_auto_flow": null,
            "grid_area": null,
            "grid_template_columns": null,
            "flex": null,
            "_model_name": "LayoutModel",
            "justify_items": null,
            "grid_row": null,
            "max_height": null,
            "align_content": null,
            "visibility": null,
            "align_self": null,
            "height": null,
            "min_height": null,
            "padding": null,
            "grid_auto_rows": null,
            "grid_gap": null,
            "max_width": null,
            "order": null,
            "_view_module_version": "1.2.0",
            "grid_template_areas": null,
            "object_position": null,
            "object_fit": null,
            "grid_auto_columns": null,
            "margin": null,
            "display": null,
            "left": null
          }
        },
        "a9e9f95ae3484d1eaad7daab93a4b410": {
          "model_module": "@jupyter-widgets/controls",
          "model_name": "DescriptionStyleModel",
          "state": {
            "_view_name": "StyleView",
            "_model_name": "DescriptionStyleModel",
            "description_width": "",
            "_view_module": "@jupyter-widgets/base",
            "_model_module_version": "1.5.0",
            "_view_count": null,
            "_view_module_version": "1.2.0",
            "_model_module": "@jupyter-widgets/controls"
          }
        },
        "98008f455cdf47a78603263a3884d3e9": {
          "model_module": "@jupyter-widgets/base",
          "model_name": "LayoutModel",
          "state": {
            "_view_name": "LayoutView",
            "grid_template_rows": null,
            "right": null,
            "justify_content": null,
            "_view_module": "@jupyter-widgets/base",
            "overflow": null,
            "_model_module_version": "1.2.0",
            "_view_count": null,
            "flex_flow": null,
            "width": null,
            "min_width": null,
            "border": null,
            "align_items": null,
            "bottom": null,
            "_model_module": "@jupyter-widgets/base",
            "top": null,
            "grid_column": null,
            "overflow_y": null,
            "overflow_x": null,
            "grid_auto_flow": null,
            "grid_area": null,
            "grid_template_columns": null,
            "flex": null,
            "_model_name": "LayoutModel",
            "justify_items": null,
            "grid_row": null,
            "max_height": null,
            "align_content": null,
            "visibility": null,
            "align_self": null,
            "height": null,
            "min_height": null,
            "padding": null,
            "grid_auto_rows": null,
            "grid_gap": null,
            "max_width": null,
            "order": null,
            "_view_module_version": "1.2.0",
            "grid_template_areas": null,
            "object_position": null,
            "object_fit": null,
            "grid_auto_columns": null,
            "margin": null,
            "display": null,
            "left": null
          }
        }
      }
    }
  },
  "cells": [
    {
      "cell_type": "markdown",
      "metadata": {
        "id": "view-in-github",
        "colab_type": "text"
      },
      "source": [
        "<a href=\"https://colab.research.google.com/github/pelinsuciftcioglu/VAE/blob/main/VAE.ipynb\" target=\"_parent\"><img src=\"https://colab.research.google.com/assets/colab-badge.svg\" alt=\"Open In Colab\"/></a>"
      ]
    },
    {
      "cell_type": "markdown",
      "metadata": {
        "id": "IGnGq9I4RJZi"
      },
      "source": [
        "# **Variational Auto-Encoder (VAE)**"
      ]
    },
    {
      "cell_type": "markdown",
      "metadata": {
        "id": "II9CkyMLhgIj"
      },
      "source": [
        "VAE implementation inspired by:\n",
        "- [Tomczak, J. M. (2021). Introduction to Deep Generative Modeling.](https://https://github.com/jmtomczak/intro_dgm)\n",
        "- [CreativeAI: Deep Learning for Graphics Tutorial Code\n",
        "](https://github.com/smartgeometry-ucl/dl4g/blob/master/variational_autoencoder.ipynb)\n",
        "\n",
        "\n",
        "\n"
      ]
    },
    {
      "cell_type": "code",
      "metadata": {
        "id": "kr7xJ0hJwUZ5"
      },
      "source": [
        "import torch\n",
        "import torch.nn as nn\n",
        "import torch.nn.functional as F\n",
        "import torch.optim\n",
        "import torch.utils\n",
        "import torch.distributions\n",
        "import torchvision\n",
        "import numpy as np\n",
        "import matplotlib.pyplot as plt\n",
        "\n",
        "import os\n",
        "\n",
        "use_gpu = True"
      ],
      "execution_count": 1,
      "outputs": []
    },
    {
      "cell_type": "code",
      "metadata": {
        "id": "d7rMFdHqXJYZ"
      },
      "source": [
        "PI = torch.from_numpy(np.asarray(np.pi))\n",
        "EPS = 1.e-5\n",
        "\n",
        "# DISTRBUTION FOR THE DATA (INPUT)\n",
        "\n",
        "def log_categorical(x, x_new, num_classes, reduction=None, dim=None):\n",
        "    x_one_hot = F.one_hot(x.long(), num_classes)\n",
        "    log_p = x_one_hot * torch.log(torch.clamp(x_new, EPS, 1. - EPS))\n",
        "    if reduction == 'avg':\n",
        "        return torch.mean(log_p, dim)\n",
        "    elif reduction == 'sum':\n",
        "        return torch.sum(log_p, dim)\n",
        "    else:\n",
        "        return log_p\n",
        "\n",
        "def log_bernoulli(x, x_new, reduction=None, dim=None):\n",
        "    x_new = torch.clamp(x_new, EPS, 1. - EPS)\n",
        "    log_p = x * torch.log(x_new) + (1. - x) * torch.log(1. - x_new)\n",
        "    if reduction == 'avg':\n",
        "        return torch.mean(log_p, dim)\n",
        "    elif reduction == 'sum':\n",
        "        return torch.sum(log_p, dim)\n",
        "    else:\n",
        "        return log_p\n",
        "\n",
        "# DISTRIBUTION FOR THE VARIATIONAL INFERENCE\n",
        "def log_normal_diag(x, mu, log_var, reduction=None, dim=None):\n",
        "    D = x.shape[1]\n",
        "    log_p = -0.5 * D * torch.log(2. * PI) - 0.5 * log_var - 0.5 * torch.exp(-log_var) * (x - mu)**2.\n",
        "    if reduction == 'avg':\n",
        "        return torch.mean(log_p, dim)\n",
        "    elif reduction == 'sum':\n",
        "        return torch.sum(log_p, dim)\n",
        "    else:\n",
        "        return log_p\n",
        "\n",
        "\n",
        "# PRIOR DISTRIBUTIONS for p(z)\n",
        "\n",
        "def log_standard_normal(x, reduction=None, dim=None):\n",
        "    D = x.shape[1]\n",
        "    log_p = -0.5 * D * torch.log(2. * PI) - 0.5 * x**2.\n",
        "    if reduction == 'avg':\n",
        "        return torch.mean(log_p, dim)\n",
        "    elif reduction == 'sum':\n",
        "        return torch.sum(log_p, dim)\n",
        "    else:\n",
        "        return log_p"
      ],
      "execution_count": 2,
      "outputs": []
    },
    {
      "cell_type": "code",
      "metadata": {
        "id": "OMVbn06LxAM4"
      },
      "source": [
        "class Encoder(nn.Module):\n",
        "    def __init__(self, D, H, L):\n",
        "        super(Encoder, self).__init__()\n",
        "\n",
        "        self.encoder_net = nn.Sequential(nn.Linear(D, H), nn.LeakyReLU(), nn.Linear(H, H), nn.LeakyReLU(), nn.Linear(H, 2*L))\n",
        "\n",
        "    def encode(self, x):\n",
        "      mu, log_var = self.forward(x)\n",
        "      return mu, log_var\n",
        "\n",
        "    def forward(self, x):\n",
        "      h = self.encoder_net(x)\n",
        "      mu, log_var =  torch.chunk(h, 2, dim=1)\n",
        "\n",
        "      return mu, log_var\n",
        "\n",
        "    def sample(self, mu, log_var):\n",
        "      std = torch.exp(0.5 * log_var)\n",
        "      # Sample epsilon ~ N(0,I)\n",
        "      eps = torch.randn_like(std)\n",
        "      # Reparameterization trick\n",
        "      z = mu + eps * std\n",
        "\n",
        "      return z\n",
        "\n",
        "    def log_prob(self, mu, log_var, z):\n",
        "      return log_normal_diag(z, mu, log_var)\n",
        "\n"
      ],
      "execution_count": 3,
      "outputs": []
    },
    {
      "cell_type": "code",
      "metadata": {
        "id": "cT7wpoop1PJJ"
      },
      "source": [
        "class Decoder(nn.Module):\n",
        "    def __init__(self, D, H, L, distribution, num_vals):\n",
        "        super(Decoder, self).__init__()\n",
        "        self.D = D\n",
        "        self.distribution = distribution\n",
        "        self.num_vals = num_vals\n",
        "\n",
        "        self.decoder_net = nn.Sequential(nn.Linear(L, H), nn.LeakyReLU(), nn.Linear(H, H), nn.LeakyReLU(), nn.Linear(H, D * num_vals))\n",
        "\n",
        "    def decode(self, z):\n",
        "      x_new = self.forward(z)\n",
        "\n",
        "      return x_new\n",
        "\n",
        "    def forward(self, z):\n",
        "      x_new = self.decoder_net(z)\n",
        "      \n",
        "      if self.distribution == 'categorical':\n",
        "        b = x_new.shape[0]\n",
        "        d = self.D\n",
        "        x_new = x_new.reshape(b, d, self.num_vals)\n",
        "        return torch.softmax(x_new, 2)\n",
        "      \n",
        "      elif self.distribution == 'bernoulli':\n",
        "        return torch.sigmoid(x_new)"
      ],
      "execution_count": 4,
      "outputs": []
    },
    {
      "cell_type": "code",
      "metadata": {
        "id": "XMV2Vv6rYVOM"
      },
      "source": [
        "class Prior(nn.Module):\n",
        "    def __init__(self, L, prior_distribution):\n",
        "        super(Prior, self).__init__()\n",
        "        self.L = L\n",
        "        self.distribution = prior_distribution\n",
        "\n",
        "    # def sample(self, batch_size):\n",
        "    #     z = torch.randn((batch_size, self.L))\n",
        "    #     return z\n",
        "\n",
        "    def log_prob(self, z):\n",
        "      if (self.distribution == 'standard normal'):\n",
        "        return log_standard_normal(z)\n",
        "\n",
        "      # elif self.distribution == ''\n",
        "        # return log____(z)"
      ],
      "execution_count": 5,
      "outputs": []
    },
    {
      "cell_type": "code",
      "metadata": {
        "id": "tzfVgQYtP-Lg"
      },
      "source": [
        "class VAE(nn.Module):\n",
        "  def __init__(self, D, H, L, distribution, num_vals, prior_distribution):\n",
        "        super(VAE, self).__init__()\n",
        "        self.encoder = Encoder(D, H, L)\n",
        "        self.decoder = Decoder(D, H, L, distribution, num_vals)\n",
        "        self.prior = Prior(L, prior_distribution)\n",
        "\n",
        "\n",
        "        self.num_vals = num_vals\n",
        "        self.distribution = distribution\n",
        "  \n",
        "  def forward(self, x, reduction='avg'):\n",
        "        x = torch.flatten(x, start_dim=1)\n",
        "        #print(x.size())\n",
        "        #print(x[0])\n",
        "        mu, log_var = self.encoder.encode(x)\n",
        "        z = self.encoder.sample(mu, log_var)\n",
        "\n",
        "        ELBO = self.loss(x, z, mu, log_var, reduction)\n",
        "\n",
        "        return ELBO\n",
        "  \n",
        "  def loss(self, x, z, mu, log_var, reduction='avg'):\n",
        "    # Reconstruction Error\n",
        "    RE = self.log_prob(x, z)\n",
        "\n",
        "    # KL-Divergence\n",
        "    KL = (self.prior.log_prob(z) - self.encoder.log_prob(mu, log_var, z)).sum(-1)\n",
        "\n",
        "    if reduction == 'sum':\n",
        "      return -(RE + KL).sum()\n",
        "    else:\n",
        "      return -(RE + KL).mean()\n",
        "\n",
        "\n",
        "  def log_prob(self, x, z):\n",
        "    x_new = self.decoder.decode(z)\n",
        "\n",
        "    if self.distribution == 'categorical':\n",
        "      log_prob = log_categorical(x, x_new, self.num_vals, reduction='sum', dim=-1).sum(-1)\n",
        "            \n",
        "    elif self.distribution == 'bernoulli':\n",
        "      log_prob = log_bernoulli(x, x_new, reduction='sum', dim=-1)\n",
        "\n",
        "    return log_prob\n"
      ],
      "execution_count": 6,
      "outputs": []
    },
    {
      "cell_type": "markdown",
      "metadata": {
        "id": "jEvP6chRJQ_v"
      },
      "source": [
        "http://yann.lecun.com/exdb/mnist/"
      ]
    },
    {
      "cell_type": "code",
      "metadata": {
        "id": "Z6iSaLkBfA-7"
      },
      "source": [
        "import math\n",
        "import numbers\n",
        "import warnings\n",
        "from enum import Enum\n",
        "\n",
        "import numpy as np\n",
        "from PIL import Image\n",
        "\n",
        "import torch\n",
        "from torch import Tensor\n",
        "from typing import List, Tuple, Any, Optional\n",
        "\n",
        "try:\n",
        "    import accimage\n",
        "except ImportError:\n",
        "    accimage = None"
      ],
      "execution_count": 7,
      "outputs": []
    },
    {
      "cell_type": "code",
      "metadata": {
        "id": "Si5Apcn1dhDW"
      },
      "source": [
        "class ToTensor:\n",
        "    def __call__(self, pic):\n",
        "        \"\"\"\n",
        "        Args:\n",
        "            pic (PIL Image or numpy.ndarray): Image to be converted to tensor.\n",
        "        Returns:\n",
        "            Tensor: Converted image.\n",
        "        \"\"\"\n",
        "        return to_tensor(np.array(pic))\n",
        "\n",
        "    def __repr__(self):\n",
        "        return self.__class__.__name__ + '()'"
      ],
      "execution_count": 8,
      "outputs": []
    },
    {
      "cell_type": "code",
      "metadata": {
        "id": "0zen4WLidinj"
      },
      "source": [
        "def to_tensor(pic):\n",
        "    \"\"\"Convert a ``PIL Image`` or ``numpy.ndarray`` to tensor.\n",
        "    This function does not support torchscript.\n",
        "    See :class:`~torchvision.transforms.ToTensor` for more details.\n",
        "    Args:\n",
        "        pic (PIL Image or numpy.ndarray): Image to be converted to tensor.\n",
        "    Returns:\n",
        "        Tensor: Converted image.\n",
        "    \"\"\"\n",
        "    default_float_dtype = torch.get_default_dtype()\n",
        "\n",
        "    if isinstance(pic, np.ndarray):\n",
        "        # handle numpy array\n",
        "        if pic.ndim == 2:\n",
        "            pic = pic[:, :, None]\n",
        "\n",
        "        img = torch.from_numpy(pic.transpose((2, 0, 1))).contiguous()\n",
        "        # backward compatibility\n",
        "        if isinstance(img, torch.ByteTensor):\n",
        "            return img.to(dtype=default_float_dtype).div(255)\n",
        "        else:\n",
        "            return img\n",
        "\n",
        "    if accimage is not None and isinstance(pic, accimage.Image):\n",
        "        nppic = np.zeros([pic.channels, pic.height, pic.width], dtype=np.float32)\n",
        "        pic.copyto(nppic)\n",
        "        return torch.from_numpy(nppic).to(dtype=default_float_dtype)\n",
        "\n",
        "    # handle PIL Image\n",
        "    mode_to_nptype = {'I': np.int32, 'I;16': np.int16, 'F': np.float32}\n",
        "    img = torch.from_numpy(\n",
        "        np.array(pic, mode_to_nptype.get(pic.mode, np.uint8), copy=True)\n",
        "    )\n",
        "\n",
        "    if pic.mode == '1':\n",
        "        img = 255 * img\n",
        "    img = img.view(pic.size[1], pic.size[0], len(pic.getbands()))\n",
        "    # put it from HWC to CHW format\n",
        "    img = img.permute((2, 0, 1)).contiguous()\n",
        "    if isinstance(img, torch.ByteTensor):\n",
        "        return img.to(dtype=default_float_dtype)\n",
        "    else:\n",
        "        return img"
      ],
      "execution_count": 9,
      "outputs": []
    },
    {
      "cell_type": "code",
      "metadata": {
        "id": "G2GSk5YuIR3M",
        "outputId": "251ede90-e6d1-483d-dbdf-463bdb8d2651",
        "colab": {
          "base_uri": "https://localhost:8080/",
          "height": 702,
          "referenced_widgets": [
            "ba677da247af4dfaafe95eae2a02bbf1",
            "f9f3b08f601a494189adbc79d09a9750",
            "9efe03103de840f086ed5019ff10d912",
            "9f01800af4ef4dcda1e9773350f3d19d",
            "f3f59fa427aa4dc0bef14f9a6a5f3b8a",
            "5a94e457054448daa4c98baa2673e789",
            "5e520e575f31407f84622ac08a89b08e",
            "db056dca45084639830d3f3f7ca3e51e",
            "ff3c165e75ba4be99ce5b53c226e95d4",
            "f64f91aa5ed14ccfa3284c91be109d38",
            "258e7f3a87134a32a11def8413465f48",
            "9cdc52ee53784da28c10216c6ce0d8c3",
            "1119a6280150443e9f8e01ba9248ceb6",
            "0165cdbb7ff349c4957df32cc77c0650",
            "204d11fd81d146ecaebe57381a1ecfc9",
            "ddbd241e3eba4b36ab5914dfc59b33c9",
            "4ff24c5ad5ed470a9ac3c48b9f8dafcc",
            "76b7161f93264011a1f905a8346754cb",
            "df065fc2b77f420dad395d17a7eaed1f",
            "42e1c8053d9d48d79fbbc90ebea9e027",
            "de7f48cf574a448eb14e662aa7b50f39",
            "14ee983770b8430c892d1c2fef1599a1",
            "f82fe47f82c54bf4aec46a5259c384e4",
            "ab9335fa005f43518777b68720e2822d",
            "15c68f9cabfd48578098fc98a09312be",
            "08ead63c81a742628f86d3ad4bbb5f93",
            "9c94f7f8247545a49bb8fd311f13bd1a",
            "94bb44ba99a644628b8268a21baee393",
            "3c5945f689034d4ea08ca6f8a37d4dc7",
            "3062957e6a8343e59fbcc741fdc4d12d",
            "a9e9f95ae3484d1eaad7daab93a4b410",
            "98008f455cdf47a78603263a3884d3e9"
          ]
        }
      },
      "source": [
        "import torchvision.transforms as transforms\n",
        "from torch.utils.data import DataLoader\n",
        "from torchvision.datasets import MNIST\n",
        "\n",
        "img_transform = transforms.Compose([ToTensor()])\n",
        "\n",
        "train_dataset = MNIST(root='./data/MNIST', download=True, train=True, transform=img_transform)\n",
        "train_dataloader = DataLoader(train_dataset, batch_size=64, shuffle=True)\n",
        "\n",
        "\n",
        "test_dataset = MNIST(root='./data/MNIST', download=True, train=False, transform=img_transform)\n",
        "test_dataloader = DataLoader(test_dataset, batch_size=64, shuffle=False)"
      ],
      "execution_count": 10,
      "outputs": [
        {
          "output_type": "stream",
          "text": [
            "Downloading http://yann.lecun.com/exdb/mnist/train-images-idx3-ubyte.gz\n",
            "Downloading http://yann.lecun.com/exdb/mnist/train-images-idx3-ubyte.gz to ./data/MNIST/MNIST/raw/train-images-idx3-ubyte.gz\n",
            "Failed to download (trying next):\n",
            "HTTP Error 503: Service Unavailable\n",
            "\n",
            "Downloading https://ossci-datasets.s3.amazonaws.com/mnist/train-images-idx3-ubyte.gz\n",
            "Downloading https://ossci-datasets.s3.amazonaws.com/mnist/train-images-idx3-ubyte.gz to ./data/MNIST/MNIST/raw/train-images-idx3-ubyte.gz\n"
          ],
          "name": "stdout"
        },
        {
          "output_type": "display_data",
          "data": {
            "application/vnd.jupyter.widget-view+json": {
              "model_id": "ba677da247af4dfaafe95eae2a02bbf1",
              "version_minor": 0,
              "version_major": 2
            },
            "text/plain": [
              "HBox(children=(FloatProgress(value=0.0, max=9912422.0), HTML(value='')))"
            ]
          },
          "metadata": {
            "tags": []
          }
        },
        {
          "output_type": "stream",
          "text": [
            "\n",
            "Extracting ./data/MNIST/MNIST/raw/train-images-idx3-ubyte.gz to ./data/MNIST/MNIST/raw\n",
            "\n",
            "Downloading http://yann.lecun.com/exdb/mnist/train-labels-idx1-ubyte.gz\n",
            "Downloading http://yann.lecun.com/exdb/mnist/train-labels-idx1-ubyte.gz to ./data/MNIST/MNIST/raw/train-labels-idx1-ubyte.gz\n"
          ],
          "name": "stdout"
        },
        {
          "output_type": "display_data",
          "data": {
            "application/vnd.jupyter.widget-view+json": {
              "model_id": "ff3c165e75ba4be99ce5b53c226e95d4",
              "version_minor": 0,
              "version_major": 2
            },
            "text/plain": [
              "HBox(children=(FloatProgress(value=0.0, max=28881.0), HTML(value='')))"
            ]
          },
          "metadata": {
            "tags": []
          }
        },
        {
          "output_type": "stream",
          "text": [
            "\n",
            "Extracting ./data/MNIST/MNIST/raw/train-labels-idx1-ubyte.gz to ./data/MNIST/MNIST/raw\n",
            "\n",
            "Downloading http://yann.lecun.com/exdb/mnist/t10k-images-idx3-ubyte.gz\n",
            "Downloading http://yann.lecun.com/exdb/mnist/t10k-images-idx3-ubyte.gz to ./data/MNIST/MNIST/raw/t10k-images-idx3-ubyte.gz\n",
            "Failed to download (trying next):\n",
            "HTTP Error 503: Service Unavailable\n",
            "\n",
            "Downloading https://ossci-datasets.s3.amazonaws.com/mnist/t10k-images-idx3-ubyte.gz\n",
            "Downloading https://ossci-datasets.s3.amazonaws.com/mnist/t10k-images-idx3-ubyte.gz to ./data/MNIST/MNIST/raw/t10k-images-idx3-ubyte.gz\n"
          ],
          "name": "stdout"
        },
        {
          "output_type": "display_data",
          "data": {
            "application/vnd.jupyter.widget-view+json": {
              "model_id": "4ff24c5ad5ed470a9ac3c48b9f8dafcc",
              "version_minor": 0,
              "version_major": 2
            },
            "text/plain": [
              "HBox(children=(FloatProgress(value=0.0, max=1648877.0), HTML(value='')))"
            ]
          },
          "metadata": {
            "tags": []
          }
        },
        {
          "output_type": "stream",
          "text": [
            "\n",
            "Extracting ./data/MNIST/MNIST/raw/t10k-images-idx3-ubyte.gz to ./data/MNIST/MNIST/raw\n",
            "\n",
            "Downloading http://yann.lecun.com/exdb/mnist/t10k-labels-idx1-ubyte.gz\n",
            "Downloading http://yann.lecun.com/exdb/mnist/t10k-labels-idx1-ubyte.gz to ./data/MNIST/MNIST/raw/t10k-labels-idx1-ubyte.gz\n"
          ],
          "name": "stdout"
        },
        {
          "output_type": "display_data",
          "data": {
            "application/vnd.jupyter.widget-view+json": {
              "model_id": "15c68f9cabfd48578098fc98a09312be",
              "version_minor": 0,
              "version_major": 2
            },
            "text/plain": [
              "HBox(children=(FloatProgress(value=0.0, max=4542.0), HTML(value='')))"
            ]
          },
          "metadata": {
            "tags": []
          }
        },
        {
          "output_type": "stream",
          "text": [
            "\n",
            "Extracting ./data/MNIST/MNIST/raw/t10k-labels-idx1-ubyte.gz to ./data/MNIST/MNIST/raw\n",
            "\n"
          ],
          "name": "stdout"
        },
        {
          "output_type": "stream",
          "text": [
            "/usr/local/lib/python3.7/dist-packages/torchvision/datasets/mnist.py:498: UserWarning: The given NumPy array is not writeable, and PyTorch does not support non-writeable tensors. This means you can write to the underlying (supposedly non-writeable) NumPy array using the tensor. You may want to copy the array to protect its data or make it writeable before converting it to a tensor. This type of warning will be suppressed for the rest of this program. (Triggered internally at  /pytorch/torch/csrc/utils/tensor_numpy.cpp:180.)\n",
            "  return torch.from_numpy(parsed.astype(m[2], copy=False)).view(*s)\n"
          ],
          "name": "stderr"
        }
      ]
    },
    {
      "cell_type": "code",
      "metadata": {
        "id": "cKPrUR6ypP52"
      },
      "source": [
        "likelihood_type = 'categorical'\n",
        "\n",
        "if likelihood_type == 'categorical':\n",
        "    num_vals = 256\n",
        "elif likelihood_type == 'bernoulli':\n",
        "    num_vals = 1\n",
        "\n",
        "prior_distribution = 'standard normal'"
      ],
      "execution_count": 11,
      "outputs": []
    },
    {
      "cell_type": "code",
      "metadata": {
        "id": "3FwKPPMwHm6x"
      },
      "source": [
        "D = 28*28\n",
        "H = 100\n",
        "L = 20\n",
        "\n",
        "\n",
        "learning_rate = 1e-3\n",
        "num_epochs = 100"
      ],
      "execution_count": 12,
      "outputs": []
    },
    {
      "cell_type": "code",
      "metadata": {
        "id": "hLepmWGMqfQw",
        "outputId": "2b3ac7e3-60c5-46ed-a00a-9e3ed3b8752a",
        "colab": {
          "base_uri": "https://localhost:8080/"
        }
      },
      "source": [
        "!nvidia-smi"
      ],
      "execution_count": 13,
      "outputs": [
        {
          "output_type": "stream",
          "text": [
            "Tue Jul 27 11:55:34 2021       \n",
            "+-----------------------------------------------------------------------------+\n",
            "| NVIDIA-SMI 470.42.01    Driver Version: 460.32.03    CUDA Version: 11.2     |\n",
            "|-------------------------------+----------------------+----------------------+\n",
            "| GPU  Name        Persistence-M| Bus-Id        Disp.A | Volatile Uncorr. ECC |\n",
            "| Fan  Temp  Perf  Pwr:Usage/Cap|         Memory-Usage | GPU-Util  Compute M. |\n",
            "|                               |                      |               MIG M. |\n",
            "|===============================+======================+======================|\n",
            "|   0  Tesla T4            Off  | 00000000:00:04.0 Off |                    0 |\n",
            "| N/A   65C    P8    11W /  70W |      0MiB / 15109MiB |      0%      Default |\n",
            "|                               |                      |                  N/A |\n",
            "+-------------------------------+----------------------+----------------------+\n",
            "                                                                               \n",
            "+-----------------------------------------------------------------------------+\n",
            "| Processes:                                                                  |\n",
            "|  GPU   GI   CI        PID   Type   Process name                  GPU Memory |\n",
            "|        ID   ID                                                   Usage      |\n",
            "|=============================================================================|\n",
            "|  No running processes found                                                 |\n",
            "+-----------------------------------------------------------------------------+\n"
          ],
          "name": "stdout"
        }
      ]
    },
    {
      "cell_type": "code",
      "metadata": {
        "id": "3bj4iLyRU1UA"
      },
      "source": [
        "model = VAE(D, H, L, likelihood_type, num_vals, prior_distribution)\n",
        "\n",
        "device = torch.device(\"cuda\" if use_gpu and torch.cuda.is_available() else \"cpu\")\n",
        "model = model.to(device)\n",
        "\n",
        "optimizer = torch.optim.Adam(params=model.parameters(), lr=learning_rate)"
      ],
      "execution_count": 14,
      "outputs": []
    },
    {
      "cell_type": "markdown",
      "metadata": {
        "id": "_Lxs797lIN0u"
      },
      "source": [
        "      # print(data[0])\n",
        "\n",
        "      # break\n",
        "\n",
        "      #data = data.requires_grad_(True)   \n",
        "      #print(data.size())\n",
        "\n",
        "      with autograd.detect_anomaly():\n",
        "\n",
        "\n"
      ]
    },
    {
      "cell_type": "code",
      "metadata": {
        "id": "kYaRbY3TGhrx",
        "colab": {
          "base_uri": "https://localhost:8080/"
        },
        "outputId": "4e44eb55-231c-4083-da80-e0725450a6c0"
      },
      "source": [
        "from torch import autograd\n",
        "\n",
        "\n",
        "train_loss_avgs = []\n",
        "#best_loss = 1000.\n",
        "\n",
        "model.train()\n",
        "print(\"Training...\")\n",
        "\n",
        "for epoch in range(num_epochs):\n",
        "  train_loss_avgs.append(0)\n",
        "  for batch_idx, (data, labels) in enumerate(train_dataloader, 1):\n",
        "    \n",
        "    with autograd.detect_anomaly():\n",
        "\n",
        "      data = data.to(device)\n",
        "\n",
        "\n",
        "      loss = model.forward(data) \n",
        "\n",
        "\n",
        "      optimizer.zero_grad()\n",
        "      loss.backward(retain_graph=True)    \n",
        "      optimizer.step()\n",
        "\n",
        "      \n",
        "      train_loss_avgs[-1] += loss.item()\n",
        "      num_batches = batch_idx\n",
        "\n",
        "  train_loss_avgs[-1] /= num_batches\n",
        "  print('Epoch [%d / %d] average training loss: %f' % (epoch+1, num_epochs, train_loss_avgs[-1]))\n",
        "\n",
        "\n",
        "\n"
      ],
      "execution_count": null,
      "outputs": [
        {
          "output_type": "stream",
          "text": [
            "Training...\n"
          ],
          "name": "stdout"
        },
        {
          "output_type": "stream",
          "text": [
            "/usr/local/lib/python3.7/dist-packages/ipykernel_launcher.py:14: UserWarning: Anomaly Detection has been enabled. This mode will increase the runtime and should only be enabled for debugging.\n",
            "  \n"
          ],
          "name": "stderr"
        },
        {
          "output_type": "stream",
          "text": [
            "Epoch [1 / 100] average training loss: 115.159282\n",
            "Epoch [2 / 100] average training loss: 27.920726\n",
            "Epoch [3 / 100] average training loss: 27.653135\n",
            "Epoch [4 / 100] average training loss: 27.573854\n",
            "Epoch [5 / 100] average training loss: 27.475584\n",
            "Epoch [6 / 100] average training loss: 27.303889\n",
            "Epoch [7 / 100] average training loss: 27.281383\n",
            "Epoch [8 / 100] average training loss: 27.252985\n",
            "Epoch [9 / 100] average training loss: 27.210080\n",
            "Epoch [10 / 100] average training loss: 27.165121\n",
            "Epoch [11 / 100] average training loss: 27.136765\n",
            "Epoch [12 / 100] average training loss: 27.099662\n",
            "Epoch [13 / 100] average training loss: 27.023045\n",
            "Epoch [14 / 100] average training loss: 26.914309\n",
            "Epoch [15 / 100] average training loss: 26.828751\n",
            "Epoch [16 / 100] average training loss: 26.690659\n",
            "Epoch [17 / 100] average training loss: 26.548364\n",
            "Epoch [18 / 100] average training loss: 26.384875\n",
            "Epoch [19 / 100] average training loss: 26.285074\n",
            "Epoch [20 / 100] average training loss: 26.096645\n",
            "Epoch [21 / 100] average training loss: 25.998667\n",
            "Epoch [22 / 100] average training loss: 25.834882\n",
            "Epoch [23 / 100] average training loss: 25.739464\n",
            "Epoch [24 / 100] average training loss: 25.613045\n",
            "Epoch [25 / 100] average training loss: 25.372668\n",
            "Epoch [26 / 100] average training loss: 25.316736\n",
            "Epoch [27 / 100] average training loss: 25.120822\n",
            "Epoch [28 / 100] average training loss: 24.995072\n",
            "Epoch [29 / 100] average training loss: 24.880340\n",
            "Epoch [30 / 100] average training loss: 24.742032\n",
            "Epoch [31 / 100] average training loss: 24.682664\n",
            "Epoch [32 / 100] average training loss: 24.661392\n",
            "Epoch [33 / 100] average training loss: 24.386871\n",
            "Epoch [34 / 100] average training loss: 24.287700\n",
            "Epoch [35 / 100] average training loss: 24.276001\n",
            "Epoch [36 / 100] average training loss: 24.102234\n",
            "Epoch [37 / 100] average training loss: 24.100881\n",
            "Epoch [38 / 100] average training loss: 23.915928\n",
            "Epoch [39 / 100] average training loss: 23.836492\n",
            "Epoch [40 / 100] average training loss: 23.803799\n",
            "Epoch [41 / 100] average training loss: 23.800850\n",
            "Epoch [42 / 100] average training loss: 23.644143\n",
            "Epoch [43 / 100] average training loss: 23.487373\n",
            "Epoch [44 / 100] average training loss: 23.519680\n",
            "Epoch [45 / 100] average training loss: 23.376991\n",
            "Epoch [46 / 100] average training loss: 23.312900\n",
            "Epoch [47 / 100] average training loss: 23.265021\n",
            "Epoch [48 / 100] average training loss: 23.282959\n",
            "Epoch [49 / 100] average training loss: 23.183463\n",
            "Epoch [50 / 100] average training loss: 23.089682\n",
            "Epoch [51 / 100] average training loss: 23.114042\n",
            "Epoch [52 / 100] average training loss: 22.902596\n",
            "Epoch [53 / 100] average training loss: 22.945968\n",
            "Epoch [54 / 100] average training loss: 22.906043\n",
            "Epoch [55 / 100] average training loss: 22.820678\n",
            "Epoch [56 / 100] average training loss: 22.845211\n",
            "Epoch [57 / 100] average training loss: 22.749419\n",
            "Epoch [58 / 100] average training loss: 22.658035\n",
            "Epoch [59 / 100] average training loss: 22.793007\n",
            "Epoch [60 / 100] average training loss: 22.541377\n",
            "Epoch [61 / 100] average training loss: 22.539771\n",
            "Epoch [62 / 100] average training loss: 22.548268\n",
            "Epoch [63 / 100] average training loss: 22.444317\n",
            "Epoch [64 / 100] average training loss: 22.456456\n",
            "Epoch [65 / 100] average training loss: 22.462656\n",
            "Epoch [66 / 100] average training loss: 22.373748\n",
            "Epoch [67 / 100] average training loss: 22.344638\n",
            "Epoch [68 / 100] average training loss: 22.326182\n",
            "Epoch [69 / 100] average training loss: 22.374140\n",
            "Epoch [70 / 100] average training loss: 22.123401\n",
            "Epoch [71 / 100] average training loss: 22.129487\n"
          ],
          "name": "stdout"
        }
      ]
    },
    {
      "cell_type": "code",
      "metadata": {
        "id": "XfkFjwfFuvDv"
      },
      "source": [
        "torch.cuda.memory_summary(device=None, abbreviated=False)"
      ],
      "execution_count": null,
      "outputs": []
    },
    {
      "cell_type": "code",
      "metadata": {
        "id": "bnyPgvAJUoKa"
      },
      "source": [
        "plt.ion()\n",
        "\n",
        "fig = plt.figure()\n",
        "plt.plot(train_loss_avgs)\n",
        "plt.xlabel('Epochs')\n",
        "plt.ylabel('Loss')\n",
        "plt.show()"
      ],
      "execution_count": null,
      "outputs": []
    },
    {
      "cell_type": "code",
      "metadata": {
        "id": "l67D9Mb-bdyt"
      },
      "source": [
        "\n",
        "import urllib\n",
        "if not os.path.isdir('./Trained Models'):\n",
        "    os.makedirs('./Trained Models')\n",
        "\n",
        "torch.save(model.state_dict(), \"./Trained Models/VAE_First\")"
      ],
      "execution_count": null,
      "outputs": []
    },
    {
      "cell_type": "code",
      "metadata": {
        "id": "XAsQs2elU_GI"
      },
      "source": [
        "\n",
        "\n",
        "filename =  \"/VAE_First\"\n",
        "\n",
        "print('downloading ...')\n",
        "\n",
        "model.load_state_dict(torch.load('./Trained Models'+filename))\n",
        "print('done')\n"
      ],
      "execution_count": null,
      "outputs": []
    },
    {
      "cell_type": "code",
      "metadata": {
        "id": "eBG3Ga0SWAzq"
      },
      "source": [
        "test_dataset = MNIST(root='./data/MNIST', download=True, train=False, transform=img_transform)\n",
        "test_dataloader = DataLoader(test_dataset, batch_size=128, shuffle=False)"
      ],
      "execution_count": null,
      "outputs": []
    },
    {
      "cell_type": "code",
      "metadata": {
        "id": "hFa1Z2UlV2Om"
      },
      "source": [
        "# set to evaluation mode\n",
        "model.eval()\n",
        "\n",
        "test_loss_avgs, num_batches = 0, 0\n",
        "\n",
        "for batch_idx, (data, labels) in enumerate(test_dataloader):\n",
        "    \n",
        "    with torch.no_grad():\n",
        "    \n",
        "        data = data.to(device)\n",
        "\n",
        "        # reconstruction error\n",
        "        loss = model.forward(data)\n",
        "\n",
        "        test_loss_avgs += loss.item()\n",
        "        num_batches += 1\n",
        "    \n",
        "test_loss_avgs /= num_batches\n",
        "print('average loss: %f' % (test_loss_avgs))"
      ],
      "execution_count": null,
      "outputs": []
    }
  ]
}